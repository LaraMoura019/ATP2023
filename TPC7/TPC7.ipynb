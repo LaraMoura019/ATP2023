{
 "cells": [
  {
   "cell_type": "code",
   "execution_count": 98,
   "metadata": {},
   "outputs": [
    {
     "name": "stdout",
     "output_type": "stream",
     "text": [
      "[(5, 4), (6, 8), (3, 3), (5, 2), (5, 8)]\n"
     ]
    },
    {
     "data": {
      "image/png": "[encoded data removed]",
      "text/plain": [
       "<Figure size 640x480 with 1 Axes>"
      ]
     },
     "metadata": {},
     "output_type": "display_data"
    }
   ],
   "source": [
    "#Defina uma função que dado um polinomio calcula a derivada\n",
    "\n",
    "def calDerivada(polinomio):\n",
    "    derivada=[]\n",
    "    for termo in polinomio:\n",
    "        coe, grau= termo\n",
    "        if int(grau)==0:\n",
    "            coederivado=0\n",
    "            grauderivado=0\n",
    "            derivada.append((coederivado,grauderivado))\n",
    "        else:\n",
    "            coederivado=int(coe)*int(grau)\n",
    "            grauderivado=int(grau)-1\n",
    "            derivada.append((coederivado, grauderivado))\n",
    "    return derivada \n",
    "\n",
    "\n",
    "\n",
    "#2.Define uma função que recebe dois polinómios p1 e p2 e calcula um novo polinómio \n",
    "# correspondente à soma de p1 e p2\n",
    "\n",
    "def somaPol(p1,p2):\n",
    "    lista=[]\n",
    "    i=0\n",
    "    x=0\n",
    "    while i<len(p1) and x<len(p2):\n",
    "        coe1, grau1=p1[i]\n",
    "        coe2, grau2=p2[x]\n",
    "        if grau1==grau2:\n",
    "            coe=coe1+coe2\n",
    "            grau=grau1\n",
    "            lista.append((coe,grau))\n",
    "            i=i+1\n",
    "            x=x+1\n",
    "        elif grau1>grau2:\n",
    "            lista.append((coe1,grau1))\n",
    "            i=i+1\n",
    "        else:\n",
    "            lista.append((coe2,grau2))\n",
    "            x=x+1     \n",
    "    while i<len(p1):\n",
    "        coe1,grau1=p1[i]\n",
    "        lista.append((coe1,grau1))\n",
    "        i=i+1\n",
    "    while x<len(p2):\n",
    "        coe2,grau2=p2[x]\n",
    "        lista.append((coe2,grau2))\n",
    "        x=x+1\n",
    "    return lista\n",
    "p1=[(3,3),(5,2),(5,8)]\n",
    "p2=[(5,4),(6,8)]\n",
    "print(somaPol(p1,p2))\n",
    "\n",
    "#Defina uma função que recebe um polinomio e desenha um gráfico\n",
    "\n",
    "\n",
    "def pot(a,b):\n",
    "    res = 1\n",
    "    while b > 0:\n",
    "        res = res * a    \n",
    "        b = b - 1\n",
    "    return res\n",
    "\n",
    "def calcPolinomio(p, x):\n",
    "    res = 0\n",
    "    for termo in p:\n",
    "        coe, grau = termo\n",
    "        res = res + coe * pot(x,grau)\n",
    "    return res\n",
    "\n",
    "def grafPoli(p):\n",
    "    import matplotlib.pyplot as plt \n",
    "    import numpy as np\n",
    "    x=np.arange(1,100)\n",
    "    y=calcPolinomio(p,x)\n",
    "    plt.plot(x,y)\n",
    "    plt.show()\n",
    "p3=[(2,4),(5,3)]\n",
    "grafPoli(p3)\n"
   ]
  },
  {
   "cell_type": "code",
   "execution_count": null,
   "metadata": {},
   "outputs": [],
   "source": [
    "pip install matplotlib"
   ]
  },
  {
   "cell_type": "code",
   "execution_count": 103,
   "metadata": {},
   "outputs": [
    {
     "ename": "SyntaxError",
     "evalue": "incomplete input (177033145.py, line 27)",
     "output_type": "error",
     "traceback": [
      "\u001b[1;36m  Cell \u001b[1;32mIn[103], line 27\u001b[1;36m\u001b[0m\n\u001b[1;33m    \u001b[0m\n\u001b[1;37m    ^\u001b[0m\n\u001b[1;31mSyntaxError\u001b[0m\u001b[1;31m:\u001b[0m incomplete input\n"
     ]
    }
   ],
   "source": [
    "#Aplicação para manipular polinomios\n",
    "def CriarPoli():\n",
    "    polinomio = []\n",
    "    grau = int(input(\"Introduza o grau do polinomio\"))\n",
    "    while grau >= 0:\n",
    "        coeficiente = int(input(\"Introduza o coeficiente\"))\n",
    "        if coeficiente != 0:\n",
    "            termo = (coeficiente, grau)\n",
    "            polinomio.append(termo)\n",
    "        grau = grau - 1\n",
    "    return polinomio \n",
    "\n",
    "def Lerlista(nome):\n",
    "    file=open(nome,\"r\")\n",
    "    res=[]\n",
    "    for line in file:\n",
    "        line=line.strip()\n",
    "        polinomio= line.split(\"[]\")\n",
    "        res.append(polinomio)\n",
    "    file.close()\n",
    "    return res\n",
    "\n",
    "Lerlista(\"polinomios.txt\")\n",
    "\n",
    "\n",
    "def listarPoli():\n",
    "    "
   ]
  },
  {
   "cell_type": "code",
   "execution_count": 105,
   "metadata": {},
   "outputs": [
    {
     "data": {
      "text/plain": [
       "[['[(1,7),(-3.7,4),(5,3),(-88,0)]'],\n",
       " ['[(2,2),(17,1)]'],\n",
       " ['[(7,4),(6,3),(-1,2),(43,0)]'],\n",
       " ['[(1,4)]'],\n",
       " ['[(1,2)]'],\n",
       " ['[(1,3)]']]"
      ]
     },
     "execution_count": 105,
     "metadata": {},
     "output_type": "execute_result"
    }
   ],
   "source": [
    "Lerlista(\"polinomios.txt\")"
   ]
  },
  {
   "cell_type": "code",
   "execution_count": 48,
   "metadata": {},
   "outputs": [],
   "source": [
    "def aplicação():\n",
    "    print(\"(1)Cria um polinomio interativamente\\n(2)Le uma lista de polinomios de um ficheiro\\n(3)Listar polinomios\\n(4)Calcula o valor de um polinomio num ponto\\n(5)Listar polinomios com grau\\n(6)Maior grau\\n(7)Deriva\\n(8)Soma dois polinomios\\n(9)Gera um grafico para o polinomio\\n(10)Grava num ficheiro os polinomios em memoria\\n(11)Sair da aplicação\")\n",
    "    m=int(input(\"Qual a funcionalidade\"))\n",
    "    if m==1:\n",
    "        print(CriarPoli())\n",
    "    if m==2:\n",
    "        c=input(\"Qual o ficheiro\")\n",
    "        Lerlista(c)\n",
    "    if m==3:\n",
    "    if m==4:\n",
    "        p=\n",
    "        calcPolinomio(p)\n",
    "    if m==5:\n",
    "    if m==6:\n",
    "    if m==7:\n",
    "        calDerivada()\n",
    "    if m==8:\n",
    "        q=input(\"Qual o numero de ordem do primeiro polinomio?\")\n",
    "        w=input(\"Qual o numero de ordem do segundo polinomio?\")\n",
    "        somaPol(q,w)\n",
    "    if m==9:\n",
    "        q=input(\"Qual é o polinomio?\")\n",
    "        grafPoli(q)\n",
    "    if m==10:\n",
    "    if m==11:\n",
    "    \n",
    "\n",
    "          "
   ]
  }
 ],
 "metadata": {
  "interpreter": {
   "hash": "aee8b7b246df8f9039afb4144a1f6fd8d2ca17a180786b69acc140d282b71a49"
  },
  "kernelspec": {
   "display_name": "Python 3.9.4 64-bit",
   "name": "python3"
  },
  "language_info": {
   "codemirror_mode": {
    "name": "ipython",
    "version": 3
   },
   "file_extension": ".py",
   "mimetype": "text/x-python",
   "name": "python",
   "nbconvert_exporter": "python",
   "pygments_lexer": "ipython3",
   "version": "3.11.6"
  },
  "orig_nbformat": 4
 },
 "nbformat": 4,
 "nbformat_minor": 2
}
