{
 "cells": [
  {
   "cell_type": "markdown",
   "id": "1e545158",
   "metadata": {},
   "source": [
    "# Aula Prática 8 (guião)\n",
    "### Semana de 30 de Outubro a 3 de Novembro de 2023\n",
    "### José Carlos Ramalho e Luís Cunha\n",
    "### Sinopsis:\n",
    "Consolidação e aferição de tudo o que foi feito até ao momento. "
   ]
  },
  {
   "cell_type": "markdown",
   "id": "9b9b5140-2b81-435e-9fc0-324437a7b453",
   "metadata": {},
   "source": [
    "### Assunto: Frações\n",
    "Vamos pensar num modelo: o que é uma fração estruturalmente?"
   ]
  },
  {
   "cell_type": "code",
   "execution_count": 2,
   "id": "5a6da5eb",
   "metadata": {},
   "outputs": [
    {
     "data": {
      "text/plain": [
       "[(1, 2), (2, 3), (4, 3)]"
      ]
     },
     "execution_count": 2,
     "metadata": {},
     "output_type": "execute_result"
    }
   ],
   "source": [
    "# Modelo duma fração\n",
    "f1=(1,2)\n",
    "\n",
    "# Modelo duma lista de frações\n",
    "[(1,2),(2,3),(4,3)]"
   ]
  },
  {
   "cell_type": "markdown",
   "id": "d477052b-e074-4a5d-ac12-85c2286a1e5f",
   "metadata": {},
   "source": [
    "### Construtor"
   ]
  },
  {
   "cell_type": "code",
   "execution_count": 6,
   "id": "33d1c7e9-22af-4473-9b21-3e7ce0fcf571",
   "metadata": {},
   "outputs": [
    {
     "name": "stdout",
     "output_type": "stream",
     "text": [
      "1/2 1/2 "
     ]
    }
   ],
   "source": [
    "#sep=\"\"- para retirar o espaço que fica por defeito no print\n",
    "#end=\"\"- imprime os resultados do print todos na mesma linha separado por aquilo que for colocada em \"\"(normalmente o print\n",
    "#passa para a linha seguinte)\n",
    "#quando usamos + temos de converter todo para string, ou seja, print(str(f[0])+\"/\"+str[1])\n",
    "def criarFracao(numerador, denominador):\n",
    "    return (numerador,denominador)\n",
    "\n",
    "def verFracao(f):\n",
    "    print(f[0],\"/\",f[1],sep=\"\",end=\" \")\n",
    "    return\n",
    "verFracao(f1)\n",
    "verFracao(f1)"
   ]
  },
  {
   "cell_type": "markdown",
   "id": "f7cd0ff1",
   "metadata": {},
   "source": [
    "### Simplificação de frações"
   ]
  },
  {
   "cell_type": "code",
   "execution_count": 9,
   "id": "8b0fa08f",
   "metadata": {},
   "outputs": [],
   "source": [
    "#subtrair o menor numero ao maior numero, e vamos repetir o processo fiquem iguais, ai sabemos que o valor de a e b é o maximo divisor comum\n",
    "#Temos o a e b, depois subtraimos o maior ao menor, e o a passa a ser o menor e o b a subtração ( se aqui o b for maior que o a trocamos)\n",
    "def mdc(a,b):\n",
    "    while a!=b:\n",
    "        if a>b:\n",
    "          aux=a\n",
    "          a=b \n",
    "          b=aux-b\n",
    "          #a , b = b , a-b\n",
    "        else:\n",
    "           a,b = b,a\n",
    "    return b\n",
    "def simplificarFracao(f):\n",
    "   divisor = mdc(f[0], f[1])\n",
    "   return (f[0]/divisor, f[1]/divisor)"
   ]
  },
  {
   "cell_type": "code",
   "execution_count": 10,
   "id": "8821d031",
   "metadata": {},
   "outputs": [
    {
     "name": "stdout",
     "output_type": "stream",
     "text": [
      "3.0/20.0 "
     ]
    }
   ],
   "source": [
    "verFracao(simplificarFracao(criarFracao(21, 140)))"
   ]
  },
  {
   "cell_type": "markdown",
   "id": "ca2f1736",
   "metadata": {},
   "source": [
    "### Frações equivalentes\n",
    "\n",
    "Defina uma função que recebe duas frações como argumento e devolve `True` se as frações são equivalentes e `False` caso contrário."
   ]
  },
  {
   "cell_type": "code",
   "execution_count": 11,
   "id": "58bdae83",
   "metadata": {},
   "outputs": [
    {
     "name": "stdout",
     "output_type": "stream",
     "text": [
      "True\n",
      "False\n"
     ]
    }
   ],
   "source": [
    "def equivalenteFracao(f1,f2):\n",
    "    return simplificarFracao(f1)==simplificarFracao(f2)\n",
    "f2=(2,4)\n",
    "f3=(4,8)\n",
    "f4=(3,7)\n",
    "print(equivalenteFracao(f2,f3))\n",
    "print(equivalenteFracao(f2,f4))"
   ]
  },
  {
   "cell_type": "markdown",
   "id": "d52f012f",
   "metadata": {},
   "source": [
    "## Operações sobre frações"
   ]
  },
  {
   "cell_type": "code",
   "execution_count": 36,
   "id": "96ba280b",
   "metadata": {},
   "outputs": [
    {
     "name": "stdout",
     "output_type": "stream",
     "text": [
      "17/14 "
     ]
    }
   ],
   "source": [
    "#def somarFrac(f1, f2):\n",
    "#    numerador=f1[0]*f2[1]+f1[1]*f2[0]\n",
    " #   denominador=f1[1]*f2[1]\n",
    "  #  return (numerador,denominador)\n",
    "#Resolução professor\n",
    "def somarFrac(f1,f2):\n",
    "    return f1[0]*f2[1]+f1[1]*f2[0],f1[1]*f2[1]\n",
    "f2 = criarFracao(5,7)\n",
    "verFracao(somarFrac(f1,f2))"
   ]
  },
  {
   "cell_type": "code",
   "execution_count": 28,
   "id": "a0198bce",
   "metadata": {},
   "outputs": [
    {
     "name": "stdout",
     "output_type": "stream",
     "text": [
      "[(5, 8), (8, 17), (4, 19), (1, 16), (6, 10), (3, 12), (6, 3), (9, 17), (9, 8), (4, 6), (7, 12), (9, 12), (2, 11), (8, 14), (2, 11), (1, 12), (2, 12), (2, 18), (8, 9)]\n"
     ]
    }
   ],
   "source": [
    "listaFrac = [f1, f2, criarFracao(125,1000), (8,12)]\n",
    "listaFrac2 = []\n",
    "import random\n",
    "for i in range(1,20):\n",
    "    n = random.randrange(1, 10)\n",
    "    d = random.randrange(2, 20)\n",
    "    listaFrac2.append(criarFracao(n,d))\n",
    "print(listaFrac2)"
   ]
  },
  {
   "cell_type": "markdown",
   "id": "e83e4eae",
   "metadata": {},
   "source": [
    "### Soma uma lista de frações"
   ]
  },
  {
   "cell_type": "code",
   "execution_count": 44,
   "id": "402d83f0",
   "metadata": {},
   "outputs": [
    {
     "data": {
      "text/plain": [
       "(337000, 168000)"
      ]
     },
     "execution_count": 44,
     "metadata": {},
     "output_type": "execute_result"
    }
   ],
   "source": [
    "def somarListaFrac(lista):\n",
    "    res=lista[0]\n",
    "    i=1\n",
    "    while i<len(lista):\n",
    "        res=somarFrac(res, lista[i])\n",
    "        i=i+1\n",
    "    return res\n",
    "#Outra resolução com for\n",
    "def somarListaFrac2(lista):\n",
    "    res=lista[0]\n",
    "    for f in lista[1:]:\n",
    "        res=res=somarFrac(res,f)\n",
    "    return res \n",
    "\n",
    "\n",
    "somarListaFrac(listaFrac)"
   ]
  },
  {
   "cell_type": "markdown",
   "id": "a88929cc",
   "metadata": {},
   "source": [
    "### Multiplica 2 frações"
   ]
  },
  {
   "cell_type": "code",
   "execution_count": 45,
   "id": "519c5358",
   "metadata": {},
   "outputs": [
    {
     "data": {
      "text/plain": [
       "(8, 6)"
      ]
     },
     "execution_count": 45,
     "metadata": {},
     "output_type": "execute_result"
    }
   ],
   "source": [
    "def multFrac(f1, f2):\n",
    "\n",
    "    return f1[0]*f2[0],f1[1]*f2[1]\n",
    "\n",
    "f1=(2,3)\n",
    "f2=(4,2)\n",
    "multFrac(f1,f2)"
   ]
  },
  {
   "cell_type": "markdown",
   "id": "d1f0c8fa",
   "metadata": {},
   "source": [
    "### Ordenar uma lista de frações por ordem decrescente"
   ]
  },
  {
   "cell_type": "code",
   "execution_count": 48,
   "id": "b783df02",
   "metadata": {},
   "outputs": [
    {
     "name": "stdout",
     "output_type": "stream",
     "text": [
      "[(5, 7), (8, 12), (1, 2), (125, 1000)]\n"
     ]
    }
   ],
   "source": [
    "#key= permite-nos alterar o criterio da configuração\n",
    "def ordena (f):\n",
    "    return f[0]/f[1]\n",
    "\n",
    "def ordenaFracDec(lista):\n",
    "    lista=sorted(lista,key=ordena, reverse=True)\n",
    "    return lista\n",
    "\n",
    "print(ordenaFracDec(listaFrac))"
   ]
  },
  {
   "cell_type": "markdown",
   "id": "fcd5b5d6",
   "metadata": {},
   "source": [
    "### Guardar uma lista de frações num ficheiro"
   ]
  },
  {
   "cell_type": "code",
   "execution_count": 49,
   "id": "2840f9b2",
   "metadata": {},
   "outputs": [],
   "source": [
    "def gravaListaFrac(fnome,lista):\n",
    "    file=open(fnome,\"w\")\n",
    "    for f in lista:\n",
    "        registo=str(f[0]) + \"/\" + str(f[1]) + \"\\n\"\n",
    "        file.write(registo)\n",
    "    file.close()\n",
    "    return \n",
    "gravaListaFrac(\"fracos.txt\",listaFrac)"
   ]
  },
  {
   "cell_type": "markdown",
   "id": "0664fcdc",
   "metadata": {},
   "source": [
    "### Recuperar uma lista de frações dum ficheiro"
   ]
  },
  {
   "cell_type": "code",
   "execution_count": 7,
   "id": "82aece6e",
   "metadata": {},
   "outputs": [
    {
     "data": {
      "text/plain": [
       "[(1, 2), (5, 7), (125, 1000), (8, 12)]"
      ]
     },
     "execution_count": 7,
     "metadata": {},
     "output_type": "execute_result"
    }
   ],
   "source": [
    "def carregaListaFrac(fnome):\n",
    "    file=open(fnome,\"r\")\n",
    "    lista=[]\n",
    "    for linha in file:\n",
    "        linha=linha[:-1]\n",
    "        fracao=linha.split(\"/\")\n",
    "        num= int(fracao[0])\n",
    "        denum=int(fracao[1])\n",
    "        lista.append((num,denum))\n",
    "    file.close()\n",
    "    return lista\n",
    "carregaListaFrac(\"fracos.txt\")"
   ]
  },
  {
   "cell_type": "code",
   "execution_count": null,
   "id": "00b81ac4",
   "metadata": {},
   "outputs": [],
   "source": [
    "#INVERTER UMA LISTA\n",
    "def inverter(lista):\n",
    "    n=len(lista)-1\n",
    "    novalista=[]\n",
    "    while n>=0:\n",
    "        novalista.append(lista[n])\n",
    "        n=n-1\n",
    "\n",
    "ou nova=lista[::-1]"
   ]
  },
  {
   "cell_type": "markdown",
   "id": "4193a91b",
   "metadata": {},
   "source": [
    "## TPC8: Teste de aferição\n",
    "\n",
    "Resolva os problemas apresentados a seguir."
   ]
  },
  {
   "cell_type": "markdown",
   "id": "ecb162bd",
   "metadata": {},
   "source": [
    "### tpc-1. Especifique as seguintes listas em compreensão:"
   ]
  },
  {
   "cell_type": "markdown",
   "id": "4e758271",
   "metadata": {},
   "source": [
    "#### a) Lista formada pelos elementos que não são comuns às duas listas:"
   ]
  },
  {
   "cell_type": "code",
   "execution_count": 40,
   "id": "1fe48423",
   "metadata": {},
   "outputs": [],
   "source": [
    "lista1 = [1, 2, 3, 4, 5]\n",
    "lista2 = [4, 5, 6, 7, 8]  \n",
    "comuns = [...]\n",
    "# Resultado esperado: [1,2,3,5,7,8]"
   ]
  },
  {
   "cell_type": "code",
   "execution_count": 16,
   "id": "262acdac",
   "metadata": {},
   "outputs": [
    {
     "name": "stdout",
     "output_type": "stream",
     "text": [
      "[6, 7, 8, 1, 2, 3]\n"
     ]
    }
   ],
   "source": [
    "def naoComuns(l1,l2):\n",
    "    Naocomuns=[]\n",
    "    for e in l2:\n",
    "      if e not in l1:\n",
    "        Naocomuns.append(e)\n",
    "    for i in l1:\n",
    "       if i not in l2:\n",
    "          Naocomuns.append(i)\n",
    "    return Naocomuns\n",
    "\n",
    "print(naoComuns(lista1,lista2))  "
   ]
  },
  {
   "cell_type": "code",
   "execution_count": 43,
   "id": "e2e59e2f",
   "metadata": {},
   "outputs": [
    {
     "data": {
      "text/plain": [
       "[6, 7, 8, 1, 2, 3]"
      ]
     },
     "execution_count": 43,
     "metadata": {},
     "output_type": "execute_result"
    }
   ],
   "source": [
    "def naoComuns(l1,l2):\n",
    "    return [e for e in l2 if e not in l1]+[i for i in l1 if i not in l2]\n",
    "naoComuns(lista1, lista2)"
   ]
  },
  {
   "cell_type": "markdown",
   "id": "0ded2f03",
   "metadata": {},
   "source": [
    "#### b) Lista formada pelas palavras do texto compostas por mais de 3 letras:"
   ]
  },
  {
   "cell_type": "code",
   "execution_count": 18,
   "id": "4ae7f5d0",
   "metadata": {},
   "outputs": [],
   "source": [
    "texto = \"\"\"Vivia há já não poucos anos algures num concelho do Ribatejo \n",
    "    um pequeno lavrador e negociante de gado chamado Manuel Peres Vigário\"\"\"\n",
    "lista = [...]\n",
    "# Resultado esperado: ['Vivia', 'poucos', 'anos', 'algures', 'concelho', ...]"
   ]
  },
  {
   "cell_type": "code",
   "execution_count": 53,
   "id": "f10c952d",
   "metadata": {},
   "outputs": [
    {
     "name": "stdout",
     "output_type": "stream",
     "text": [
      "['Vivia', 'poucos', 'anos', 'algures', 'concelho', 'Ribatejo', 'pequeno', 'lavrador', 'negociante', 'gado', 'chamado', 'Manuel', 'Peres', 'Vigário']\n"
     ]
    }
   ],
   "source": [
    "def palavras(texto):\n",
    "    m=texto.split(\" \")\n",
    "    lista=[]\n",
    "    for e in m:\n",
    "        if len(e)>3:\n",
    "            lista.append(e)\n",
    "    return lista\n",
    "\n",
    "print(palavras(texto))"
   ]
  },
  {
   "cell_type": "code",
   "execution_count": 55,
   "id": "9169b089",
   "metadata": {},
   "outputs": [
    {
     "name": "stdout",
     "output_type": "stream",
     "text": [
      "['Vivia', 'poucos', 'anos', 'algures', 'concelho', 'Ribatejo', 'pequeno', 'lavrador', 'negociante', 'gado', 'chamado', 'Manuel', 'Peres', 'Vigário']\n"
     ]
    }
   ],
   "source": [
    "def palavras1(texto):\n",
    "    return [e for e in texto.split(\" \") if len(e)>3]\n",
    "print(palavras1(texto))"
   ]
  },
  {
   "cell_type": "markdown",
   "id": "ecf72afd",
   "metadata": {},
   "source": [
    "#### c) Lista formada por pares do tipo (índice, valor) com os valores da lista dada:"
   ]
  },
  {
   "cell_type": "code",
   "execution_count": 71,
   "id": "876b2cc3",
   "metadata": {},
   "outputs": [],
   "source": [
    "lista = ['anaconda', 'burro', 'cavalo', 'macaco']\n",
    "listaRes = [...]\n",
    "# Resultado esperado: [(1,'anaconda'), (2,'burro'), (3,'cavalo'), (4,'macaco')]"
   ]
  },
  {
   "cell_type": "code",
   "execution_count": 33,
   "id": "90f0e999",
   "metadata": {},
   "outputs": [
    {
     "data": {
      "text/plain": [
       "[(1, 'anaconda'), (2, 'burro'), (3, 'cavalo'), (4, 'macaco')]"
      ]
     },
     "execution_count": 33,
     "metadata": {},
     "output_type": "execute_result"
    }
   ],
   "source": [
    "def pares(lista):\n",
    "    x=1\n",
    "    lista1=[]\n",
    "    for e in lista:\n",
    "        lista1.append((x,e))\n",
    "        x=x+1\n",
    "    return lista1\n",
    "\n",
    "pares(lista)"
   ]
  },
  {
   "cell_type": "code",
   "execution_count": 72,
   "id": "353d4648",
   "metadata": {},
   "outputs": [
    {
     "data": {
      "text/plain": [
       "[(1, 'anaconda'), (2, 'burro'), (3, 'cavalo'), (4, 'macaco')]"
      ]
     },
     "execution_count": 72,
     "metadata": {},
     "output_type": "execute_result"
    }
   ],
   "source": [
    "def pares1(lista):\n",
    "    return [(i+1, elemento) for i, elemento   in enumerate(lista)]\n",
    "pares1(lista)"
   ]
  },
  {
   "cell_type": "markdown",
   "id": "28cb3dc4",
   "metadata": {},
   "source": [
    "### tpc-2. À semelhança do que foi feito nas aulas, realize as seguintes tarefas:"
   ]
  },
  {
   "cell_type": "markdown",
   "id": "5d3f1dbe",
   "metadata": {},
   "source": [
    "#### a) Especifique uma função que dada uma string e uma substring não vazia, calcula  o número de vezes em que a substring aparece na string, sem que haja sobreposição de substrings:"
   ]
  },
  {
   "cell_type": "code",
   "execution_count": 5,
   "id": "4458c7bc",
   "metadata": {},
   "outputs": [
    {
     "name": "stdout",
     "output_type": "stream",
     "text": [
      "2\n",
      "1\n",
      "0\n"
     ]
    }
   ],
   "source": [
    "def strCount(s, subs):\n",
    "    x=0\n",
    "    y=0\n",
    "    while x< len(s):\n",
    "        g=0 \n",
    "        while g<len(subs) and s[x]==subs[g]:\n",
    "            x=x+1\n",
    "            g=g+1\n",
    "        if g==len(subs):\n",
    "            y=y+1\n",
    "        x=x+1\n",
    "    return y\n",
    "    \n",
    "\n",
    "\n",
    "print(strCount(\"catcowcat\", \"cat\") )# --> 2\n",
    "print(strCount(\"catcowcat\", \"cow\") )# --> 1\n",
    "print(strCount(\"catcowcat\", \"dog\")) # --> 0"
   ]
  },
  {
   "cell_type": "markdown",
   "id": "e6db31d7",
   "metadata": {},
   "source": [
    "#### b) Especifique uma função que recebe uma lista de números inteiros positivos e devolve o menor produto que for possível calcular multiplicando os 3 menores inteiros da lista:"
   ]
  },
  {
   "cell_type": "code",
   "execution_count": 7,
   "id": "2b5ad344",
   "metadata": {},
   "outputs": [
    {
     "name": "stdout",
     "output_type": "stream",
     "text": [
      "168\n"
     ]
    }
   ],
   "source": [
    "def produtoM3(lista):\n",
    "    lis=[]\n",
    "    x=0\n",
    "    condição=True\n",
    "    while x<len(lista) and condição:\n",
    "        i=0 \n",
    "        condiçâo= False \n",
    "        while i< len(lista)-1:\n",
    "            if lista[i]>lista[i+1]:\n",
    "                aux=lista[i+1]\n",
    "                lista[i+1]=lista[i]\n",
    "                lista[i]=aux\n",
    "                condição=True\n",
    "            i=i+1\n",
    "        x=x+1\n",
    "    lis=lista\n",
    "    res=lista[0]*lis[1]*lista[2]\n",
    "        \n",
    "    return  res\n",
    "\n",
    "print(produtoM3([12,3,7,10,12,8,9]))\n",
    "# Resultado esperado: 168 = 3 * 7 * 8"
   ]
  },
  {
   "cell_type": "markdown",
   "id": "6698b337",
   "metadata": {},
   "source": [
    "#### c) Especifique uma função que dado um número inteiro positivo, repetidamente adiciona os seus dígitos até obter apenas um dígito que é retornado como resultado:"
   ]
  },
  {
   "cell_type": "code",
   "execution_count": 56,
   "id": "54cef309",
   "metadata": {},
   "outputs": [
    {
     "name": "stdout",
     "output_type": "stream",
     "text": [
      "3\n"
     ]
    }
   ],
   "source": [
    "# Input: 38\n",
    "# Output: 2\n",
    "# Explicação: 3 + 8 = 11, 1 + 1 = 2.\n",
    "\n",
    "# Input: 777\n",
    "# Output: 3\n",
    "# Explicação: 7 + 7 + 7 = 21, 2 + 1 = 3.\n",
    "\n",
    "def reduxInt(n):\n",
    "    numero=str(n)\n",
    "    soma=0\n",
    "    for e in numero:\n",
    "        soma=soma+int(e)\n",
    "    while soma>=10:\n",
    "        g=str(soma)\n",
    "        soma=0\n",
    "        for i in g:\n",
    "            soma=soma+int(i)\n",
    "    return soma\n",
    "print(reduxInt(777))\n",
    "\n"
   ]
  },
  {
   "cell_type": "markdown",
   "id": "4a47b6e8",
   "metadata": {},
   "source": [
    "#### d) Especifique uma função que recebe duas strings, `string1` e `string2`, e devolve o índice da primeira ocorrência de `string2` em `string1`, caso não ocorra nenhuma vez a função deverá retornar `-1`:"
   ]
  },
  {
   "cell_type": "code",
   "execution_count": 68,
   "id": "f0f4c2a8",
   "metadata": {},
   "outputs": [
    {
     "data": {
      "text/plain": [
       "-1"
      ]
     },
     "execution_count": 68,
     "metadata": {},
     "output_type": "execute_result"
    }
   ],
   "source": [
    "# Invocação: indexOf(\"Hoje está um belo dia de sol!\", \"belo\")\n",
    "# Resultado: 13\n",
    "\n",
    "# Invocação: indexOf(\"Hoje está um belo dia de sol!\", \"chuva\")\n",
    "# Resultado: -1\n",
    "\n",
    "def myIndexOf(s1, s2):\n",
    "    x=0\n",
    "    while x< len(s1):\n",
    "        g=0 \n",
    "        while g<len(s2) and s1[x]==s2[g]:\n",
    "            x=x+1\n",
    "            g=g+1\n",
    "        if g==len(s2):\n",
    "            return x-len(s2)\n",
    "        else:\n",
    "            x=x+1\n",
    "    return -1\n",
    "myIndexOf(\"Hoje está um belo dia de sol!\", \"chuva\")"
   ]
  },
  {
   "cell_type": "markdown",
   "id": "7cd572fc",
   "metadata": {},
   "source": [
    "### tpc-3. A Rede Social\n",
    "\n",
    "Considere que a informação sobre uma rede social está armazenada numa lista de dicionários.\n",
    "\n",
    "Cada dicionário, correspondente a um _post_ e tem chaves `id`, `conteudo`, `autor`, `dataCriacao` e `comentarios`.\n",
    "Por sua vez, `comentarios` é uma lista de dicionários com chaves `comentario` e `autor`.\n",
    "\n",
    "Considere o seguinte exemplo:\n",
    "\n",
    "``` \n",
    "    MyFaceBook = [{\n",
    "        'id': 'p1', \n",
    "        'conteudo': 'A tarefa de avaliação é talvez a mais ingrata das tarefas que um professor\n",
    "    tem de realizar...', \n",
    "        'autor': 'jcr', \n",
    "        'dataCriacao': '2023-07-20', \n",
    "        'comentarios': [\n",
    "            {\n",
    "                'comentario': 'Completamente de acordo...',\n",
    "                'autor': 'prh'\n",
    "            },\n",
    "            {\n",
    "                'comentario': 'Mas há quem goste...',\n",
    "                'autor': 'jj'\n",
    "            }\n",
    "        ]},\n",
    "        {\n",
    "            'id': 'p2',\n",
    "            ...\n",
    "        },\n",
    "        ...\n",
    "        ]\n",
    "```"
   ]
  },
  {
   "cell_type": "markdown",
   "id": "89afc758",
   "metadata": {},
   "source": [
    "Defina as seguintes funções de manipulação e consulta da rede social:"
   ]
  },
  {
   "cell_type": "markdown",
   "id": "1aec6cd8",
   "metadata": {},
   "source": [
    "#### a) `quantosPost`, que indica quantos posts estão registados:"
   ]
  },
  {
   "cell_type": "code",
   "execution_count": 37,
   "id": "39a813ee",
   "metadata": {},
   "outputs": [
    {
     "name": "stdout",
     "output_type": "stream",
     "text": [
      "1\n"
     ]
    }
   ],
   "source": [
    "def quantosPost(redeSocial):\n",
    "    x=0\n",
    "    for e in redeSocial:\n",
    "        x=x+1\n",
    "    return x\n",
    "redeSocial=MyFaceBook = [{\n",
    "        'id': 'p1', \n",
    "        'conteudo': 'A tarefa de avaliação é talvez a mais ingrata das tarefas que um professor tem de realizar...', \n",
    "        'autor': 'jcr', \n",
    "        'dataCriacao': '2023-07-20', \n",
    "        'comentarios': [\n",
    "            {\n",
    "                'comentario': 'Completamente de acordo...',\n",
    "                'autor': 'prh'\n",
    "            },\n",
    "            {\n",
    "                'comentario': 'Mas há quem goste...',\n",
    "                'autor': 'jj'\n",
    "            }\n",
    "        ]},\n",
    "       \n",
    "        ]\n",
    "print(quantosPost(redeSocial))"
   ]
  },
  {
   "cell_type": "markdown",
   "id": "2156a0c8",
   "metadata": {},
   "source": [
    "#### b)  `postsAutor`, que devolve a lista de posts de um determinado autor:"
   ]
  },
  {
   "cell_type": "code",
   "execution_count": 78,
   "id": "8a5a2a41",
   "metadata": {},
   "outputs": [
    {
     "data": {
      "text/plain": [
       "[{'id': 'p1',\n",
       "  'conteudo': 'A tarefa de avaliação é talvez a mais ingrata das tarefas que um professor tem de realizar...',\n",
       "  'autor': 'jcr',\n",
       "  'dataCriacao': '2023-07-20',\n",
       "  'comentarios': [{'comentario': 'Completamente de acordo...', 'autor': 'prh'},\n",
       "   {'comentario': 'Mas há quem goste...', 'autor': 'jj'}]}]"
      ]
     },
     "execution_count": 78,
     "metadata": {},
     "output_type": "execute_result"
    }
   ],
   "source": [
    "def postsAutor(redeSocial, autor):\n",
    "    lista=[]\n",
    "    for post in redeSocial:\n",
    "        aut=post[\"autor\"]\n",
    "        if  aut==autor:\n",
    "           lista.append(post)\n",
    "    return lista\n",
    "\n",
    "MyFaceBook = [{\n",
    "        'id': 'p1', \n",
    "        'conteudo': 'A tarefa de avaliação é talvez a mais ingrata das tarefas que um professor tem de realizar...', \n",
    "        'autor': 'jcr', \n",
    "        'dataCriacao': '2023-07-20', \n",
    "        'comentarios': [\n",
    "            {\n",
    "                'comentario': 'Completamente de acordo...',\n",
    "                'autor': 'prh'\n",
    "            },\n",
    "            {\n",
    "                'comentario': 'Mas há quem goste...',\n",
    "                'autor': 'jj'\n",
    "            }\n",
    "        ]},\n",
    "       \n",
    "        ]\n",
    "\n",
    "postsAutor(MyFaceBook, \"jcr\")"
   ]
  },
  {
   "cell_type": "markdown",
   "id": "12f9126b",
   "metadata": {},
   "source": [
    "#### c) `autores`, que devolve a lista de autores de posts ordenada alfabeticamente:"
   ]
  },
  {
   "cell_type": "code",
   "execution_count": 91,
   "id": "d9dfe30a",
   "metadata": {},
   "outputs": [],
   "source": [
    "def autores(redeSocial):\n",
    "    lista=[]\n",
    "    for post in redeSocial:\n",
    "        aut=post[\"autor\"]\n",
    "        m=lista.append(aut)\n",
    "        listaordenada=sorted[m,post:post[\"autor\"]]\n",
    "    return  listaordenada\n"
   ]
  },
  {
   "cell_type": "markdown",
   "id": "1a0f760b",
   "metadata": {},
   "source": [
    "#### d) `insPost`, que acrescenta um novo post à rede social a partir dos parâmetros recebidos e devolve a nova rede social. \n",
    "    \n",
    "O campo `id` devrá ser calculado a partir dos já existentes, por exemplo, se a rede tiver posts com id `p1`, `p2` e `p3`, o novo `id` deverá ser `p4`."
   ]
  },
  {
   "cell_type": "code",
   "execution_count": null,
   "id": "a00c85e3",
   "metadata": {},
   "outputs": [],
   "source": [
    "def insPost(redeSocial, conteudo, autor, dataCriacao, comentarios):\n",
    "    # ... \n",
    "    return "
   ]
  },
  {
   "cell_type": "markdown",
   "id": "65061d0a",
   "metadata": {},
   "source": [
    "#### e)  `remPost`, que remove um post da rede, correspondente ao `id` recebido."
   ]
  },
  {
   "cell_type": "code",
   "execution_count": 85,
   "id": "dc1adabc",
   "metadata": {},
   "outputs": [],
   "source": [
    "def remPost(redeSocial, id):\n",
    "    for post in redeSocial:\n",
    "        m=post[\"id\"]\n",
    "        if m==id:\n",
    "            redeSocial.remove(id)\n",
    "    return redeSocial"
   ]
  },
  {
   "cell_type": "markdown",
   "id": "de46a635",
   "metadata": {},
   "source": [
    "#### f) `postsPorAutor`, que devolve uma distribuição de posts por autor (à semelhança do que foi feito nas aulas)."
   ]
  },
  {
   "cell_type": "code",
   "execution_count": null,
   "id": "4118730d",
   "metadata": {},
   "outputs": [],
   "source": [
    "def postsPorAutor(redeSocial):\n",
    "    # ... \n",
    "    return "
   ]
  },
  {
   "cell_type": "markdown",
   "id": "5b1d7d7a",
   "metadata": {},
   "source": [
    "#### g) `comentadoPor`, que recebe um autor e devolve a lista de posts comentados por esse autor."
   ]
  },
  {
   "cell_type": "code",
   "execution_count": 89,
   "id": "a91f2619",
   "metadata": {},
   "outputs": [],
   "source": [
    "def comentadoPor(redeSocial, autor):\n",
    "    lista=[]\n",
    "    for post in redeSocial:\n",
    "        comen=post[\"comentario\"]\n",
    "        for e in comen:\n",
    "            aut=e[\"autor\"]\n",
    "            if aut==autor:\n",
    "                lista.append(post)\n",
    "\n",
    "    return lista\n"
   ]
  }
 ],
 "metadata": {
  "kernelspec": {
   "display_name": "Python 3.9.1 64-bit",
   "language": "python",
   "name": "python3"
  },
  "language_info": {
   "codemirror_mode": {
    "name": "ipython",
    "version": 3
   },
   "file_extension": ".py",
   "mimetype": "text/x-python",
   "name": "python",
   "nbconvert_exporter": "python",
   "pygments_lexer": "ipython3",
   "version": "3.11.6"
  },
  "vscode": {
   "interpreter": {
    "hash": "aee8b7b246df8f9039afb4144a1f6fd8d2ca17a180786b69acc140d282b71a49"
   }
  }
 },
 "nbformat": 4,
 "nbformat_minor": 5
}
