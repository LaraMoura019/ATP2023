{
 "cells": [
  {
   "cell_type": "markdown",
   "id": "1e545158",
   "metadata": {},
   "source": [
    "# Aula Prática 5 (guião)\n",
    "### Semana de 9 a 13 de Outubro de 2023\n",
    "### José Carlos Ramalho e Luís Cunha\n",
    "### Sinopsis:\n",
    "Algoritmos e modelação de problemas com listas e listas de listas."
   ]
  },
  {
   "cell_type": "markdown",
   "id": "1d9c2fbc",
   "metadata": {},
   "source": [
    "### Exercício 1 (repescado): estaOrdenada\n",
    "- Defina uma função que recebe uma lista de números e verifica se a mesma está ordenada por ordem crescente dando como resultado um valor **True** ou **False**."
   ]
  },
  {
   "cell_type": "code",
   "execution_count": null,
   "id": "48cccede",
   "metadata": {},
   "outputs": [],
   "source": [
    "#solução 2\n",
    "def estaOrdenada():\n",
    "    for x in range(len(lista)):\n",
    "        \n",
    "listaA = [2,7,5,6,8]\n",
    "listaB = [2,5,6,7,8]\n",
    "print(estaOrdenada(listaA), estaOrdenada(listaB))"
   ]
  },
  {
   "cell_type": "code",
   "execution_count": 13,
   "id": "b4d0b27a",
   "metadata": {},
   "outputs": [
    {
     "name": "stdout",
     "output_type": "stream",
     "text": [
      "False True\n"
     ]
    }
   ],
   "source": [
    "#Solução 3\n",
    "def estaOrdenada(lista):\n",
    "    i=0 \n",
    "    condicao = True\n",
    "    while i<len(lista)-1:\n",
    "        if lista [i]> lista [i+1]:\n",
    "            condicao = False\n",
    "        i=i+1\n",
    "    return condicao\n",
    "listaA = [2,7,5,6,8]\n",
    "listaB = [2,5,6,7,8]\n",
    "print(estaOrdenada(listaA), estaOrdenada(listaB))"
   ]
  },
  {
   "cell_type": "markdown",
   "id": "274abafd",
   "metadata": {},
   "source": [
    "### Exercício 2: ordenaLista\n",
    "\n",
    "* Defina uma função que recebe uma lista de números e que dá como resultado uma nova lista ordenada de forma crescente: pode usar o método _sort_, mas se o fizer implemente uma segunda solução recorrendo a um ciclo _while_."
   ]
  },
  {
   "cell_type": "code",
   "execution_count": 19,
   "id": "368aa7cd",
   "metadata": {},
   "outputs": [
    {
     "name": "stdout",
     "output_type": "stream",
     "text": [
      "[5, 6, 7, 8, 9]\n"
     ]
    }
   ],
   "source": [
    "# Solução do exercício 2\n",
    "def ordenaLista(lista):\n",
    "    n=int(input(\"Introduza o limite da lista\"))\n",
    "    m=0 \n",
    "    lista1=[]\n",
    "    while n>m:\n",
    "        m=m+1\n",
    "        g=int(input(\"Introduza um numero para a lista\"))\n",
    "        lista1.append(g)\n",
    "    return sorted(lista1)\n",
    "\n",
    "print(ordenaLista(listaA))"
   ]
  },
  {
   "cell_type": "code",
   "execution_count": 42,
   "id": "4487224c",
   "metadata": {},
   "outputs": [
    {
     "name": "stdout",
     "output_type": "stream",
     "text": [
      "[1, 2, 6, 8, 9]\n"
     ]
    }
   ],
   "source": [
    "#Soluçao 2 \n",
    "def ordenaLista(lista):\n",
    "    n=int(input(\"Introduza o limite da lista\"))\n",
    "    m=0 \n",
    "    lista=[]\n",
    "    while n>m:\n",
    "        m=m+1\n",
    "        g=int(input(\"Introduza um numero para a lista\"))\n",
    "        lista.append(g)\n",
    "    j=0\n",
    "    cond=True\n",
    "    while j<len(lista) and cond:\n",
    "        i=1\n",
    "        cond=False\n",
    "        while i< len(lista):\n",
    "            if lista[i-1]>lista[i]:\n",
    "                aux=lista[i-1]\n",
    "                lista[i-1]=lista[i]\n",
    "                lista[i]=aux\n",
    "                cond=True\n",
    "            i=i+1\n",
    "        j=j+1\n",
    "    return lista\n",
    "\n",
    "print(ordenaLista(listaA))"
   ]
  },
  {
   "cell_type": "code",
   "execution_count": null,
   "id": "afd7ee6f",
   "metadata": {},
   "outputs": [],
   "source": [
    "#lista.sort() é uma função que ordenada a lista original\n",
    "#listaB=sorted(listaA) recebe a listaA e devolve uma nova lista B"
   ]
  },
  {
   "cell_type": "markdown",
   "id": "bb2a82e2",
   "metadata": {},
   "source": [
    "### Exercício 3: Parques de estacionamento do Continente\n",
    "\n",
    "Foste encarregado de criar uma pequena aplicação para gerir os parques de estacionamento do Continente (aqueles inteligentes que têm uma luzinha a indicar se o lugar está livre ou ocupado). \n",
    "\n",
    "Considera que cada lugar num parque é identificado por um número inteiro. \n",
    "Um parque é definido pelo seu nome, o número de lugares que tem disponíveis e uma lista dos lugares que se encontram ocupados no momento.\n",
    "\n",
    "Considera a seguinte sugestão para o modelo dos parques:\n",
    "```\n",
    "Parques = [Parque]\n",
    "Parque = [nlugares, ocupados, nome]\n",
    "nlugares = Int\n",
    "ocupados = [lugar]\n",
    "nome = String\n",
    "lugar = Int\n",
    "```\n",
    "Que poderá ser usado num programa da seguinte forma:\n",
    "```\n",
    "p1 = [600, [], \"P1\"]\n",
    "p2 = [1500, [], \"P2\"]\n",
    "parques = []\n",
    "...\n",
    "parques = inserirParque(parques, p1)\n",
    "parques = inserirParque(parques ,p2)\n",
    "...\n",
    "listar(parques)\n",
    "...\n",
    "if(disponivel( parques, \"P1\", 23 ):\n",
    "    parques = estaciona( parques, \"P1\", 23 );\n",
    "...\n",
    "listardisponibilidades(parques);\n",
    "...\n",
    "```\n",
    "Especifique as funções utilizadas no exemplo:\n",
    "\n",
    "1. `inserirParque( listap, p )` - que insere o parque `p` na lista de parques;\n",
    "2. `listar( listap )` - que lista no monitor todos os parques disponíveis juntamente com a sua informação: nome e número de lugares;\n",
    "3. `disponivel( listap, nomep, lugar )` - que dá como resultado **False** se o lugar **lugar** já estiver ocupado nesse parque e **True** caso contrário;\n",
    "4. `estaciona( listap, nomep, lugar)` - que dá como resultado um novo sistema de parques após a entrada de um carro no parque de nome **nomep** e que estacionou no lugar **lugar**;\n",
    "5. `listardisponibilidades( listap )` - que lista no monitor o nome de todos parques activos juntamente com o número de lugares disponíveis em cada um;\n",
    "6. `listarP(listap, nomep)` - que lista no monitor a informação do parque, nome, lugares e lista de ocupados;\n",
    "7. `libertaLugar(listap, nomep, lugar)` - que retira **lugar** da lista de lugares ocupados do respetivo parque;\n",
    "8. `criaParque(listap, nomep, lugares)` - que acrescenta um novo parque à lista de parques, devolvendo uma nova lista;\n",
    "9. `removeParque(listap, nomep)` - que remove o parque da lista, se a lista de lugares ocupados estiver vazia;\n",
    "10. Especifique uma aplicação, com estas opções e outras que façam sentido, para fazer a gestão dos parques: a aplicação deverá ter um menu de opções e ciclicamente executará as operações selecionadas pelo utilizador até este selecionar a opção de terminar (as funções acima indicadas são os construtoes do modelo, precisam de parâmetros, devem ser encapsuladas em funções que lêem esses parâmetros).  "
   ]
  },
  {
   "cell_type": "code",
   "execution_count": null,
   "id": "4c10ae94",
   "metadata": {},
   "outputs": [],
   "source": [
    "# Solução do exercício 3\n",
    "# ----------------------\n",
    "# Modelo:\n",
    "#   Parques = [Parque]\n",
    "#   Parque = [nlugares, ocupados, nome]\n",
    "#   nlugares = Int\n",
    "#   ocupados = [lugar]\n",
    "#   nome = String\n",
    "#   lugar = Int\n",
    "\n",
    "def inserirParque( listap, p ):\n",
    "    listap.append(p)\n",
    "    return listap\n",
    "\n",
    "def listar( listap ):\n",
    "    print(\"-----------------Parques-----------------\")\n",
    "    for p in listap:\n",
    "        print(\"Nome:\",p[2],\"  |  \",\"Numero de lugares:\",p[0])\n",
    "    return\n",
    "\n",
    "def disponivel( listap, nomep, lugar ):\n",
    "    cond=False\n",
    "    for p in listap:\n",
    "       if p[2]==nomep:\n",
    "           if lugar not in p[1]:\n",
    "               cond=True\n",
    "    return True\n",
    "\n",
    "def estaciona( listap, nomep, lugar):\n",
    "    if disponivel(listap, nomep, lugar):\n",
    "        for p in listap:\n",
    "            if p[2]==nomep:\n",
    "                p[1].append(lugar)\n",
    "    return listap\n",
    "\n",
    "\n",
    "def listardisponibilidades( listap ):\n",
    "    return\n",
    "\n",
    "\n",
    "def listarP(listap, nomep):\n",
    "    return\n",
    "\n",
    "\n",
    "def libertaLugar(listap, nomep, lugar):\n",
    "    return\n",
    "\n",
    "\n",
    "def criaParque(listap, nomep, lugares):\n",
    "    return\n",
    "\n",
    "\n",
    "def removeParque(listap, nomep):\n",
    "    return\n",
    "\n",
    "def menu():\n",
    "    print(\"\"\" \n",
    "    (1) Reset\n",
    "    (2) Criar Parque\n",
    "    (3) Remover Parque\n",
    "    (4) Listar Parques\n",
    "    (5) Consulta Parque \n",
    "    ...\n",
    "    (0) Sair\n",
    "    \"\"\")\n"
   ]
  },
  {
   "cell_type": "code",
   "execution_count": 2,
   "id": "002208d4",
   "metadata": {},
   "outputs": [
    {
     "ename": "NameError",
     "evalue": "name 'inserirParque' is not defined",
     "output_type": "error",
     "traceback": [
      "\u001b[1;31m---------------------------------------------------------------------------\u001b[0m",
      "\u001b[1;31mNameError\u001b[0m                                 Traceback (most recent call last)",
      "\u001b[1;32mc:\\Users\\laram\\OneDrive\\Ambiente de Trabalho\\AulaP5-20231009.ipynb Cell 11\u001b[0m line \u001b[0;36m8\n\u001b[0;32m      <a href='vscode-notebook-cell:/c%3A/Users/laram/OneDrive/Ambiente%20de%20Trabalho/AulaP5-20231009.ipynb#X13sZmlsZQ%3D%3D?line=5'>6</a>\u001b[0m p2 \u001b[39m=\u001b[39m [\u001b[39m1500\u001b[39m, [], \u001b[39m\"\u001b[39m\u001b[39mP2\u001b[39m\u001b[39m\"\u001b[39m]\n\u001b[0;32m      <a href='vscode-notebook-cell:/c%3A/Users/laram/OneDrive/Ambiente%20de%20Trabalho/AulaP5-20231009.ipynb#X13sZmlsZQ%3D%3D?line=6'>7</a>\u001b[0m parques \u001b[39m=\u001b[39m []\n\u001b[1;32m----> <a href='vscode-notebook-cell:/c%3A/Users/laram/OneDrive/Ambiente%20de%20Trabalho/AulaP5-20231009.ipynb#X13sZmlsZQ%3D%3D?line=7'>8</a>\u001b[0m parques \u001b[39m=\u001b[39m inserirParque(parques, p1)\n\u001b[0;32m      <a href='vscode-notebook-cell:/c%3A/Users/laram/OneDrive/Ambiente%20de%20Trabalho/AulaP5-20231009.ipynb#X13sZmlsZQ%3D%3D?line=8'>9</a>\u001b[0m parques \u001b[39m=\u001b[39m inserirParque(parques ,p2)\n\u001b[0;32m     <a href='vscode-notebook-cell:/c%3A/Users/laram/OneDrive/Ambiente%20de%20Trabalho/AulaP5-20231009.ipynb#X13sZmlsZQ%3D%3D?line=9'>10</a>\u001b[0m listar(parques)\n",
      "\u001b[1;31mNameError\u001b[0m: name 'inserirParque' is not defined"
     ]
    }
   ],
   "source": [
    "# ---------------------------------------\n",
    "# Teste às funções\n",
    "# ---------------------------------------\n",
    "\n",
    "p1 = [600, [], \"P1\"]\n",
    "p2 = [1500, [], \"P2\"]\n",
    "parques = []\n",
    "parques = inserirParque(parques, p1)\n",
    "parques = inserirParque(parques ,p2)\n",
    "listar(parques)\n",
    "print(disponivel(parques, \"P2\", 67))\n",
    "for j in range(1,101):\n",
    "    parques = estaciona(parques, \"P1\", j*2)\n",
    "listar(parques)\n",
    "print(parques[0])"
   ]
  },
  {
   "cell_type": "code",
   "execution_count": null,
   "id": "04d4cc18",
   "metadata": {},
   "outputs": [],
   "source": [
    "# Aplicação para gerir parques\n",
    "opcao = 1\n",
    "while opcao != '0':\n",
    "    menu()\n",
    "    opcao = input(\"Introduza uma opção: \")\n",
    "    \n"
   ]
  },
  {
   "cell_type": "markdown",
   "id": "212a8b18",
   "metadata": {},
   "source": [
    "### Exercício 4: splitLista\n",
    "\n",
    "* Defina uma função que recebe uma lista de números e um número e que dá como resultado uma lista com dois elementos, o primeiro elemento é uma lista com os números menores ou iguais ao número passado como argumento, e o segundo elemento é uma lista com os maiores."
   ]
  },
  {
   "cell_type": "code",
   "execution_count": null,
   "id": "c7a21191",
   "metadata": {},
   "outputs": [],
   "source": [
    "# Solução do exercício 4\n",
    "def splitLista(lista):\n",
    "    \n",
    "    return"
   ]
  },
  {
   "cell_type": "markdown",
   "id": "caf54e37",
   "metadata": {},
   "source": [
    "### Exercício 5: mergeListas\n",
    "\n",
    "* Defina uma função que recebe duas listas de números ordenadas e dá como resultado uma nova lista ordenada com os elementos das duas listas."
   ]
  },
  {
   "cell_type": "code",
   "execution_count": null,
   "id": "444f1f0f",
   "metadata": {},
   "outputs": [],
   "source": [
    "# Solução do exercício 5\n",
    "def splitLista(lista):\n",
    "    \n",
    "    return"
   ]
  },
  {
   "cell_type": "markdown",
   "id": "4193a91b",
   "metadata": {},
   "source": [
    "### TPC5: Aplicação para Gerir um Cinema\n",
    "\n",
    "Suponha que está a desenvolver uma aplicacão para gestão de um conjunto de salas de cinema de um centro comercial. \n",
    "Nesse centro comercial existem algumas salas de cinema (que poderão estar a exibir filmes ou não), cada sala tem uma determinada \n",
    "lotação, uma lista com a referência dos bilhetes vendidos (lugares ocupados; cada lugar é identificado por um número inteiro), e cada sala tem um filme associado.\n",
    "\n",
    "Considera a seguinte sugestão para o modelo dos cinemas:\n",
    "```\n",
    "Cinema = [Sala]\n",
    "Sala = [nlugares, Vendidos, filme]\n",
    "nlugares = Int\n",
    "filme = String \n",
    "Vendidos = [Int]\n",
    "```\n",
    "  \n",
    "Que poderá ser usado num programa da seguinte forma:\n",
    "```\n",
    "sala1 = (150, [], \"Twilight\")\n",
    "sala2 = (200, [], \"Hannibal\")\n",
    "cinema1 = []\n",
    "...\n",
    "cinema1 = inserirSala(cinema1,sala1)\n",
    "cinema1 = inserirSala(cinema1,sala2)\n",
    "...\n",
    "listar(cinema1)\n",
    "...\n",
    "\n",
    "if(disponivel(cinema1, \"Twilight\", 17 )):\n",
    "  cinema1 = vendebilhete(cinema1, \"Twilight\", 17 )\n",
    "...\n",
    "listardisponibilidades(cinema1)\n",
    "...\n",
    "```\n",
    "\n",
    "Especifique as funções utilizadas no exemplo:\n",
    "\n",
    "1. `listar( cinema )` - que lista no monitor todos os filmes que estão em exibição nas salas do cinema passado como argumento;\n",
    "2. `disponivel( cinema, filme, lugar )` - que dá como resultado **False** se o lugar lugar já estiver ocupado na sala onde o filme está a ser exibido e dará como resultado **True** se o inverso acontecer;\n",
    "3. `vendebilhete( cinema, filme, lugar )` - que dá como resultado um novo cinema resultante de acrescentar o lugar à lista dos lugares ocupados, na sala onde está a ser exibido o filme;\n",
    "4. `listardisponibilidades( cinema )` - que, para um dado cinema, lista no monitor para cada sala, o filme que está a ser exibido e o total de lugares disponíveis nessa sala (número de lugares na sala menos o número de lugares ocupados);\n",
    "5. `inserirSala( cinema, sala )` - que acrescenta uma sala nova a um cinema (devendo verificar se a sala já existe);\n",
    "6. Acrescente todas as outras funcionalidades que achar necessárias;\n",
    "7. À semelhança do exercício 3, construa uma aplicação com um menu de interface para as operações.\n"
   ]
  },
  {
   "cell_type": "code",
   "execution_count": 47,
   "id": "75b7f2d7",
   "metadata": {},
   "outputs": [],
   "source": [
    "def listar(cinema):\n",
    "    print(\"------------Filmes disponíveis---------------\")\n",
    "    for e in cinema:\n",
    "        print(e[2])\n",
    "    return\n",
    "def disponivel(cinema, filme, lugar):\n",
    "    cond=False\n",
    "    for n in cinema:\n",
    "        if n[2]==filme:\n",
    "            if lugar not in n[1]:\n",
    "                cond=True\n",
    "    return cond\n",
    "def vendebilhete(cinema, filme, lugar): \n",
    "    for m in cinema:\n",
    "        if m[2]==filme:\n",
    "            m[1].append(lugar)\n",
    "    return cinema \n",
    "def listardisponibilidades (cinema):\n",
    "    print(\"----------Disponibilidades------------\")\n",
    "    for n in cinema:\n",
    "        j=n[0]-len(n[1])\n",
    "        print(\"O filme é:\",n[2],\"e o numero de lugar disponíveis é\",j)\n",
    "\n",
    "        return\n",
    "def inserirsala(sala, cinema):\n",
    "    cond=False\n",
    "    for g in cinema:\n",
    "        if g==sala:\n",
    "            cond=True\n",
    "    if cond==False:\n",
    "        cinema.append(sala)\n",
    "    return cinema\n",
    "def menu(cinema):\n",
    "    sair = False\n",
    "    while sair==False:\n",
    "        print(\"Menu\\n(1)Lista de filmes \\n(2)O lugar está disponivel?\\n(3)Comprar bilhetes\\n(4)Lugares disponíveis\\n(5)Acrescentar sala\")\n",
    "        n=int(input(\"Qual a funcionalidade?\"))\n",
    "\n",
    "        if n==1:\n",
    "            listar(cinema)\n",
    "        elif n==2:\n",
    "            filme=str(input(\"Qual é o filme?\"))\n",
    "            lugar=input(\"Qual é o lugar?\")\n",
    "            if (disponivel(cinema, filme, lugar)):\n",
    "                print(\"\\nEstá disponivel\")\n",
    "            else:\n",
    "                print(\"\\nNão esta disponivel\")\n",
    "        elif n==3:\n",
    "            filme=input(\"Qual é o filme?\")\n",
    "            lugar=input(\"Qual é o lugar?\")\n",
    "            vendebilhete(cinema, filme, lugar)\n",
    "        elif n==4:\n",
    "            listardisponibilidades (cinema)\n",
    "        elif n==5:\n",
    "            lugares=input(\"Qual é a lotação\")\n",
    "            filme=input(\" qual é o filme?\")\n",
    "            sala=[lugares,[], filme]\n",
    "            inserirsala(sala, cinema)\n",
    "        else:\n",
    "            sair=True\n"
   ]
  },
  {
   "cell_type": "code",
   "execution_count": 46,
   "id": "53d5072a",
   "metadata": {},
   "outputs": [
    {
     "name": "stdout",
     "output_type": "stream",
     "text": [
      "(1)Lista de filmes \n",
      "(2)O lugar está disponivel?\n",
      "(3)Comprar bilhetes\n",
      "(4)Lugares disponíveis\n",
      "(5)Acrescentar sala\n",
      "------------Filmes disponíveis---------------\n",
      "Twilight\n",
      "Hannibal\n",
      "\n",
      "\n",
      "(1)Lista de filmes \n",
      "(2)O lugar está disponivel?\n",
      "(3)Comprar bilhetes\n",
      "(4)Lugares disponíveis\n",
      "(5)Acrescentar sala\n"
     ]
    },
    {
     "ename": "ValueError",
     "evalue": "invalid literal for int() with base 10: ''",
     "output_type": "error",
     "traceback": [
      "\u001b[1;31m---------------------------------------------------------------------------\u001b[0m",
      "\u001b[1;31mValueError\u001b[0m                                Traceback (most recent call last)",
      "\u001b[1;32mc:\\Users\\laram\\OneDrive\\Ambiente de Trabalho\\AulaP5-20231009.ipynb Cell 19\u001b[0m line \u001b[0;36m4\n\u001b[0;32m      <a href='vscode-notebook-cell:/c%3A/Users/laram/OneDrive/Ambiente%20de%20Trabalho/AulaP5-20231009.ipynb#X32sZmlsZQ%3D%3D?line=1'>2</a>\u001b[0m sala2 \u001b[39m=\u001b[39m (\u001b[39m200\u001b[39m, [], \u001b[39m\"\u001b[39m\u001b[39mHannibal\u001b[39m\u001b[39m\"\u001b[39m)\n\u001b[0;32m      <a href='vscode-notebook-cell:/c%3A/Users/laram/OneDrive/Ambiente%20de%20Trabalho/AulaP5-20231009.ipynb#X32sZmlsZQ%3D%3D?line=2'>3</a>\u001b[0m cinema\u001b[39m=\u001b[39m[sala1,sala2]\n\u001b[1;32m----> <a href='vscode-notebook-cell:/c%3A/Users/laram/OneDrive/Ambiente%20de%20Trabalho/AulaP5-20231009.ipynb#X32sZmlsZQ%3D%3D?line=3'>4</a>\u001b[0m menu(cinema)\n",
      "\u001b[1;32mc:\\Users\\laram\\OneDrive\\Ambiente de Trabalho\\AulaP5-20231009.ipynb Cell 19\u001b[0m line \u001b[0;36m3\n\u001b[0;32m     <a href='vscode-notebook-cell:/c%3A/Users/laram/OneDrive/Ambiente%20de%20Trabalho/AulaP5-20231009.ipynb#X32sZmlsZQ%3D%3D?line=34'>35</a>\u001b[0m \u001b[39mwhile\u001b[39;00m sair\u001b[39m==\u001b[39m\u001b[39mFalse\u001b[39;00m:\n\u001b[0;32m     <a href='vscode-notebook-cell:/c%3A/Users/laram/OneDrive/Ambiente%20de%20Trabalho/AulaP5-20231009.ipynb#X32sZmlsZQ%3D%3D?line=35'>36</a>\u001b[0m     \u001b[39mprint\u001b[39m(\u001b[39m\"\u001b[39m\u001b[39m(1)Lista de filmes \u001b[39m\u001b[39m\\n\u001b[39;00m\u001b[39m(2)O lugar está disponivel?\u001b[39m\u001b[39m\\n\u001b[39;00m\u001b[39m(3)Comprar bilhetes\u001b[39m\u001b[39m\\n\u001b[39;00m\u001b[39m(4)Lugares disponíveis\u001b[39m\u001b[39m\\n\u001b[39;00m\u001b[39m(5)Acrescentar sala\u001b[39m\u001b[39m\"\u001b[39m)\n\u001b[1;32m---> <a href='vscode-notebook-cell:/c%3A/Users/laram/OneDrive/Ambiente%20de%20Trabalho/AulaP5-20231009.ipynb#X32sZmlsZQ%3D%3D?line=36'>37</a>\u001b[0m     n\u001b[39m=\u001b[39m\u001b[39mint\u001b[39;49m(\u001b[39minput\u001b[39;49m(\u001b[39m\"\u001b[39;49m\u001b[39mQual a funcionalidade?\u001b[39;49m\u001b[39m\"\u001b[39;49m))\n\u001b[0;32m     <a href='vscode-notebook-cell:/c%3A/Users/laram/OneDrive/Ambiente%20de%20Trabalho/AulaP5-20231009.ipynb#X32sZmlsZQ%3D%3D?line=38'>39</a>\u001b[0m     \u001b[39mif\u001b[39;00m n\u001b[39m==\u001b[39m\u001b[39m1\u001b[39m:\n\u001b[0;32m     <a href='vscode-notebook-cell:/c%3A/Users/laram/OneDrive/Ambiente%20de%20Trabalho/AulaP5-20231009.ipynb#X32sZmlsZQ%3D%3D?line=39'>40</a>\u001b[0m         listar(cinema)\n",
      "\u001b[1;31mValueError\u001b[0m: invalid literal for int() with base 10: ''"
     ]
    }
   ],
   "source": [
    "sala1 = (150, [], \"Twilight\")\n",
    "sala2 = (200, [], \"Hannibal\")\n",
    "cinema=[sala1,sala2]\n",
    "menu(cinema)"
   ]
  }
 ],
 "metadata": {
  "kernelspec": {
   "display_name": "Python 3.9.1 64-bit",
   "language": "python",
   "name": "python3"
  },
  "language_info": {
   "codemirror_mode": {
    "name": "ipython",
    "version": 3
   },
   "file_extension": ".py",
   "mimetype": "text/x-python",
   "name": "python",
   "nbconvert_exporter": "python",
   "pygments_lexer": "ipython3",
   "version": "3.11.6"
  },
  "vscode": {
   "interpreter": {
    "hash": "aee8b7b246df8f9039afb4144a1f6fd8d2ca17a180786b69acc140d282b71a49"
   }
  }
 },
 "nbformat": 4,
 "nbformat_minor": 5
}
