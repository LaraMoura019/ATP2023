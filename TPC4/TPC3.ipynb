{
 "cells": [
  {
   "cell_type": "markdown",
   "id": "1e545158",
   "metadata": {},
   "source": [
    "# Aula Prática 4 (guião)\n",
    "### Semana de 2 a 6 de Outubro de 2023\n",
    "### José Carlos Ramalho e Luís Cunha\n",
    "### Sinopsis:\n",
    "Algoritmos sobre listas."
   ]
  },
  {
   "cell_type": "markdown",
   "id": "e38d18c4-d7d7-4fea-9bc6-e3f3c903386b",
   "metadata": {},
   "source": [
    "### Exercício 1: Criar uma lista \n",
    "- Defina uma função que recebe um argumento **N** e devolve uma  lista com os números ímpares até **N**;\n",
    "- Crie um programa que chama a função e imprime a lista resultante."
   ]
  },
  {
   "cell_type": "code",
   "execution_count": 29,
   "id": "af973146-3bb4-4fa8-ba6c-b887b79ccff8",
   "metadata": {},
   "outputs": [
    {
     "name": "stdout",
     "output_type": "stream",
     "text": [
      "k tem valor de: [1, 3, 5, 7, 9, 11, 13, 15, 17, 19]\n"
     ]
    },
    {
     "data": {
      "text/plain": [
       "[1, 3, 5, 7, 9, 11, 13, 15, 17, 19]"
      ]
     },
     "execution_count": 29,
     "metadata": {},
     "output_type": "execute_result"
    }
   ],
   "source": [
    "# Solução do exercício 1\n",
    "def criaLista(N):\n",
    "    lista=[]\n",
    "    for n in range (0,N+1):\n",
    "        if n % 2==1:\n",
    "            lista.append(n)\n",
    "    return lista\n",
    "k= criaLista(20)\n",
    "print (\"k tem valor de:\",k)\n",
    "\n",
    "def criaLista (N):\n",
    "    lista=[]\n",
    "    X=0\n",
    "    while X<=N:\n",
    "        if X % 2==1:\n",
    "            lista.append(X)\n",
    "        X = X + 1\n",
    "    return lista\n",
    "criaLista (10)\n",
    "\n",
    "def criaLista(N):\n",
    "    return [x for x in range(0,N+1) if x % 2==1]\n",
    "\n",
    "criaLista(20)\n"
   ]
  },
  {
   "cell_type": "markdown",
   "id": "bdcbffb0",
   "metadata": {},
   "source": [
    "### Exercício 2: Ler uma lista de N números\n",
    "- Defina uma função que recebe um argumento **N** e lê **N** números armazenando-os numa lista que é devolvida como resultado;\n",
    "- Crie um programa que chama a função e imprime a lista resultante."
   ]
  },
  {
   "cell_type": "code",
   "execution_count": 46,
   "id": "af973146-3bb4-4fa8-ba6c-b887b79ccff8",
   "metadata": {},
   "outputs": [
    {
     "data": {
      "text/plain": [
       "[3, 4, 5, 6, 7, 8]"
      ]
     },
     "execution_count": 46,
     "metadata": {},
     "output_type": "execute_result"
    }
   ],
   "source": [
    "# Solução do exercício 2\n",
    "def leLista(N):\n",
    "    \n",
    "    lista = [] \n",
    "    x=0\n",
    "    while x<=N:\n",
    "        x=x+1\n",
    "        e=int(input(\"numeros\"))\n",
    "        lista.append(e)\n",
    "    return lista\n",
    "leLista(5)"
   ]
  },
  {
   "cell_type": "markdown",
   "id": "bdcbffb0",
   "metadata": {},
   "source": [
    "### Exercício 3: Somar uma lista de números\n",
    "- Defina uma função que recebe uma lista como argumento e devolve a soma dos números nessa lista."
   ]
  },
  {
   "cell_type": "code",
   "execution_count": 39,
   "id": "64ad6f7b",
   "metadata": {},
   "outputs": [
    {
     "data": {
      "text/plain": [
       "14"
      ]
     },
     "execution_count": 39,
     "metadata": {},
     "output_type": "execute_result"
    }
   ],
   "source": [
    "# Solução do exercício 3\n",
    "# o for é usado para percorrer a lista. O return é apenas usado dentro da definição de função,\\ e diz-nos\n",
    "# que o valor final da função vai ser retornado, caso contrario fica o valor como nada.\n",
    "def somaLista(lista):\n",
    "    soma = 0\n",
    "    for e in lista:\n",
    "        soma = soma + e \n",
    "    \n",
    "    return soma \n",
    "somaLista([1,2,5,6])"
   ]
  },
  {
   "cell_type": "markdown",
   "id": "65565661",
   "metadata": {},
   "source": [
    "### Exercício 4: Quadrado dos elementos de uma lista\n",
    "\n",
    "- Defina uma função que recebe uma lista como argumento e devolve uma nova lista com os quadrados de cada número da lista inicial. \n",
    "\n",
    "#### Input (exemplo)\n",
    "in: [1, 2, 3, 4]\n",
    "#### Output (exemplo)\n",
    "out: [1, 4, 9, 16]"
   ]
  },
  {
   "cell_type": "code",
   "execution_count": 58,
   "id": "7e3e2775",
   "metadata": {},
   "outputs": [
    {
     "data": {
      "text/plain": [
       "[1, 4, 9, 16]"
      ]
     },
     "execution_count": 58,
     "metadata": {},
     "output_type": "execute_result"
    }
   ],
   "source": [
    "# Solução do exercício 4\n",
    "def quadrados(lista):\n",
    "    lista1 =[]\n",
    "    for e in lista:\n",
    "        lista1.append(e*e)\n",
    "    return lista1\n",
    "quadrados ([1,2,3,4])"
   ]
  },
  {
   "cell_type": "markdown",
   "id": "bdcbffb0",
   "metadata": {},
   "source": [
    "### Exercício 5: Calcular a média duma lista de números\n",
    "- Defina uma função que recebe uma lista como argumento e devolve a média dos números nessa lista."
   ]
  },
  {
   "cell_type": "code",
   "execution_count": 71,
   "id": "a6c32b2e",
   "metadata": {},
   "outputs": [
    {
     "data": {
      "text/plain": [
       "5.25"
      ]
     },
     "execution_count": 71,
     "metadata": {},
     "output_type": "execute_result"
    }
   ],
   "source": [
    "# Solução do exercício 5\n",
    "# o len serve para ver o tamanho de uma lista\n",
    "def mediaLista(lista):\n",
    "    soma=0\n",
    "    for n in lista:\n",
    "        soma=soma +n\n",
    "        media = soma / len(lista)\n",
    "    return media\n",
    "mediaLista([1,5,7,8])"
   ]
  },
  {
   "cell_type": "markdown",
   "id": "f41ef69b",
   "metadata": {},
   "source": [
    "### Exercício 6: Maior de uma sequência\n",
    "- Defina uma função que recebe uma lista como argumento e devolve o maior número nessa lista."
   ]
  },
  {
   "cell_type": "code",
   "execution_count": 75,
   "id": "86f5b24d",
   "metadata": {},
   "outputs": [
    {
     "data": {
      "text/plain": [
       "10"
      ]
     },
     "execution_count": 75,
     "metadata": {},
     "output_type": "execute_result"
    }
   ],
   "source": [
    "# Solução do exercício 6\n",
    "def maiorLista(lista):\n",
    "    maior= lista[0]\n",
    "    for e in lista:\n",
    "        if e>maior:\n",
    "            maior=e\n",
    "    return maior\n",
    "\n",
    "maiorLista([1,7,9,10])"
   ]
  },
  {
   "cell_type": "markdown",
   "id": "d11cdd11",
   "metadata": {},
   "source": [
    "### Exercício 6: Menor de uma sequência\n",
    "- Defina uma função que recebe uma lista como argumento e devolve o menor número nessa lista."
   ]
  },
  {
   "cell_type": "code",
   "execution_count": 1,
   "id": "7549c7d7",
   "metadata": {},
   "outputs": [
    {
     "data": {
      "text/plain": [
       "1"
      ]
     },
     "execution_count": 1,
     "metadata": {},
     "output_type": "execute_result"
    }
   ],
   "source": [
    "# Solução do exercício 6\n",
    "def menorLista(lista):\n",
    "    menor= lista[0]\n",
    "    for e in lista:\n",
    "        if e< menor:\n",
    "            menor=e\n",
    "    return menor\n",
    "menorLista([5,7,3,1])"
   ]
  },
  {
   "cell_type": "markdown",
   "id": "bb597e57",
   "metadata": {},
   "source": [
    "### Exercício 7: Contar Ocorrências\n",
    "- Defina uma função que recebe uma lista e um elemento como argumento, e que devolve o número de ocurrências desse elemento na lista."
   ]
  },
  {
   "cell_type": "code",
   "execution_count": 9,
   "id": "e426e923",
   "metadata": {},
   "outputs": [
    {
     "data": {
      "text/plain": [
       "2"
      ]
     },
     "execution_count": 9,
     "metadata": {},
     "output_type": "execute_result"
    }
   ],
   "source": [
    "# Solução do exercício 7\n",
    "def occor(lista, elem):\n",
    "    x=0\n",
    "    for n in lista:\n",
    "        if n==elem:\n",
    "            x=x+1\n",
    "    return x\n",
    "occor ([1,2,3,5,2,6],2)\n",
    "\n",
    "\n",
    "\n",
    "    "
   ]
  },
  {
   "cell_type": "code",
   "execution_count": 19,
   "id": "82b7125d",
   "metadata": {},
   "outputs": [
    {
     "name": "stdout",
     "output_type": "stream",
     "text": [
      "[5, 4, 3, 2, 4, 5]\n",
      "O número de ocorrências do número 4 é:2\n"
     ]
    }
   ],
   "source": [
    "#Solução 2\n",
    "def occor(lista,elem):\n",
    "    n=int(input(\"Qual é o limite da lista?\"))\n",
    "    m = 0\n",
    "    while n>m:\n",
    "        m=m+1\n",
    "        e=int(input(\"Escolhe o número para a lista\"))\n",
    "        lista.append(e)\n",
    "    g=0\n",
    "    for l in lista:\n",
    "        if l==elem:\n",
    "            g=g+1\n",
    "    print(lista)\n",
    "    return g\n",
    "l = []\n",
    "s = int(input(\"Qual é o número que quer verificar?\"))\n",
    "g = occor(l, s)\n",
    "print(\"O número de ocorrências do número \" + str(s) + \" é:\" + str(g))"
   ]
  },
  {
   "cell_type": "markdown",
   "id": "775a02a5",
   "metadata": {},
   "source": [
    "### Exercício 8: Contar strings\n",
    "- Defina uma função que recebe uma lista de strings como argumento e devolve número de strings nessa lista que:\n",
    "    1. Têm tamanho maior ou igual a 3;\n",
    "    2. Começam e terminam pelo mesmo caracter.\n",
    "#### Input (exemplo)\n",
    "in: ['abc', 'xyz', 'ab', '1221']\n",
    "#### Output (exemplo)\n",
    "out1: 3\n",
    "\n",
    "out2: 1"
   ]
  },
  {
   "cell_type": "code",
   "execution_count": 23,
   "id": "7390bc6a",
   "metadata": {},
   "outputs": [
    {
     "name": "stdout",
     "output_type": "stream",
     "text": [
      "3 1\n"
     ]
    }
   ],
   "source": [
    "# Solução do exercício 8\n",
    "def contarStringsLista(lista):\n",
    "    n=int(input(\"Qual é o limite da lista?\"))\n",
    "    m = 0\n",
    "    while n>m:\n",
    "        m=m+1\n",
    "        e=input(\"Escolhe a string para a lista\")\n",
    "        lista.append(e)\n",
    "    x=0\n",
    "    y=0\n",
    "    for g in lista:\n",
    "        if len(g)>=3:\n",
    "            x=x+1\n",
    "        if g[0]==g[-1]:\n",
    "            y=y+1\n",
    "    return x, y\n",
    "l=[]\n",
    "x,y = contarStringsLista(l)\n",
    "print(x,y)"
   ]
  },
  {
   "cell_type": "markdown",
   "id": "f9ba457b",
   "metadata": {},
   "source": [
    "### Exercício 9: Remover duplicados\n",
    "- Defina uma função que recebe uma lista como argumento e devolve uma nova lista eliminando elementos repetidos."
   ]
  },
  {
   "cell_type": "code",
   "execution_count": null,
   "id": "0abc61e5",
   "metadata": {},
   "outputs": [],
   "source": [
    "# Solução do exercício 9\n",
    "def remDupLista(lista):\n",
    "    \n",
    "    return"
   ]
  },
  {
   "cell_type": "markdown",
   "id": "9bc471d8",
   "metadata": {},
   "source": [
    "### Exercício 10: eVazia?\n",
    "- Defina uma função que recebe uma lista como argumento e devolve um resultado booleano verdadeiro se a lista estiver vazia."
   ]
  },
  {
   "cell_type": "code",
   "execution_count": null,
   "id": "18cf2aff",
   "metadata": {},
   "outputs": [],
   "source": [
    "# Solução do exercício 10\n",
    "def eVazia(lista):\n",
    "    \n",
    "    return"
   ]
  },
  {
   "cell_type": "markdown",
   "id": "72b8fac0",
   "metadata": {},
   "source": [
    "### Exercício 11: Copiar lista\n",
    "- Defina uma função que recebe uma lista como argumento e devolve uma nova lista correspondente a uma cópia da lista recebida."
   ]
  },
  {
   "cell_type": "code",
   "execution_count": null,
   "id": "a61ca503",
   "metadata": {},
   "outputs": [],
   "source": [
    "# Solução do exercício 11\n",
    "def copiarLista(lista):\n",
    "    \n",
    "    return"
   ]
  },
  {
   "cell_type": "markdown",
   "id": "d170cc50",
   "metadata": {},
   "source": [
    "### Exercício 12: Strings maiores que n carateres\n",
    "- Defina uma função que recebe dois argumentos, uma lista de strings e um número inteiro, e que devolve uma nova lista de strings em que estas têm um comprimento igual ou superior ao valor inteiro passado como argumento."
   ]
  },
  {
   "cell_type": "code",
   "execution_count": null,
   "id": "1944ef1d",
   "metadata": {},
   "outputs": [],
   "source": [
    "# Solução do exercício 12\n",
    "def stringsMaioresLista(lista, n):\n",
    "    \n",
    "    return"
   ]
  },
  {
   "cell_type": "markdown",
   "id": "af46fe06",
   "metadata": {},
   "source": [
    "### Exercício 13: Comum?\n",
    "- Defina uma função que recebe duas listas como argumento, e que devolve o valor booleano verdadeiro se as listas tiverem pelo menos um elemento comum."
   ]
  },
  {
   "cell_type": "code",
   "execution_count": null,
   "id": "7a2f4413",
   "metadata": {},
   "outputs": [],
   "source": [
    "# Solução do exercício 13\n",
    "def haComuns(listaA, listaB):\n",
    "    \n",
    "    return"
   ]
  },
  {
   "cell_type": "markdown",
   "id": "061bae0e",
   "metadata": {},
   "source": [
    "### Exercício 14: Comuns\n",
    "- Defina uma função que recebe duas listas como argumento, e que devolve uma nova lista com os valores comuns às duas listas."
   ]
  },
  {
   "cell_type": "code",
   "execution_count": null,
   "id": "02db9458",
   "metadata": {},
   "outputs": [],
   "source": [
    "# Solução do exercício 14\n",
    "def comuns(listaA, listaB):\n",
    "    \n",
    "    return"
   ]
  },
  {
   "cell_type": "markdown",
   "id": "af4f2b11",
   "metadata": {},
   "source": [
    "### Exercício 15: Únicos\n",
    "- Defina uma função que recebe duas listas como argumento, e que devolve uma nova lista com os valores que apenas existem numa delas."
   ]
  },
  {
   "cell_type": "code",
   "execution_count": null,
   "id": "01a0d35e",
   "metadata": {},
   "outputs": [],
   "source": [
    "# Solução do exercício 15\n",
    "def unicos(listaA, listaB):\n",
    "    \n",
    "    return"
   ]
  },
  {
   "cell_type": "markdown",
   "id": "2acbab46",
   "metadata": {},
   "source": [
    "### Exercício 16: indiceDe\n",
    "- Defina uma função que recebe uma lista e um elemento como argumento, e que devolve o índice desse elemento na lista. No caso do elemento não existir na lista deverá devolver o valor -1."
   ]
  },
  {
   "cell_type": "code",
   "execution_count": null,
   "id": "3891e6c3",
   "metadata": {},
   "outputs": [],
   "source": [
    "# Solução do exercício 16\n",
    "def unicos(lista, elem):\n",
    "    \n",
    "    return"
   ]
  },
  {
   "cell_type": "markdown",
   "id": "1d9c2fbc",
   "metadata": {},
   "source": [
    "### Exercício 17: estaOrdenada\n",
    "- Defina uma função que recebe uma lista de números e verifica se a mesma está ordenada por ordem crescente."
   ]
  },
  {
   "cell_type": "code",
   "execution_count": null,
   "id": "fb44546a",
   "metadata": {},
   "outputs": [],
   "source": [
    "# Solução do exercício 17\n",
    "def estaOrdenada(lista):\n",
    "    \n",
    "    return"
   ]
  },
  {
   "cell_type": "markdown",
   "id": "4c48dc90",
   "metadata": {},
   "source": [
    "### Exercício 18: estaOrdenadaCD\n",
    "- Modifique a função do exercício anterior para receber um parâmetro extra, **ordem**, que poderá ter valores \"C\" ou \"D\" e que vai verificar se a lista está ordenada por ordem crescente se **ordem=\"C\"** ou se está ordenada por ordem decrescente se **ordem=\"D\"**."
   ]
  },
  {
   "cell_type": "code",
   "execution_count": null,
   "id": "f4b83960",
   "metadata": {},
   "outputs": [],
   "source": [
    "# Solução do exercício 18\n",
    "def estaOrdenadaCD(lista, ordem):\n",
    "    \n",
    "    return"
   ]
  },
  {
   "cell_type": "markdown",
   "id": "4193a91b",
   "metadata": {},
   "source": [
    "### TPC4: Aplicação para manipulação de listas de inteiros\n",
    "- Crie uma aplicação em Python que coloca no monitor o seguinte menu:\n",
    "    * (1) Criar Lista \n",
    "    * (2) Ler Lista\n",
    "    * (3) Soma\n",
    "    * (4) Média\n",
    "    * (5) Maior\n",
    "    * (6) Menor\n",
    "    * (7) estaOrdenada por ordem crescente\n",
    "    * (8) estaOrdenada por ordem decrescente\n",
    "    * (9) Procura um elemento\n",
    "    * (0) Sair\n",
    "    - O utilizador irá escolher uma das opções introduzindo o número correspondente;\n",
    "- Se a opção não for sair, a aplicação executa a operação pretendida, apresenta o resultado e a seguir apresenta de novo o menu;\n",
    "- Se a opção for sair, a aplicação termina colocando uma mensagem no monitor.\n",
    "\n",
    "* No desenvolvimento da aplicação deverá ter em atenção o seguinte:\n",
    "    - A aplicação terá uma variável interna para guardar uma lista de números;\n",
    "    - Na opção 1, deverá ser criada uma lista de números aleatórios entre 1 e 100 que será guardada na variável interna;\n",
    "    - Na opção 2, deverá ser criada uma lista com números introduzidos pelo utilizador, que será guardada na variável interna;\n",
    "    - Nestas primeiras opções, se a variável interna já tiver uma lista, esta será sobreposta/apagada pela nova lista;\n",
    "    - Na opção 3, será calculada a soma dos elementos na lista no momento;\n",
    "    - Na opção 4, será calculada a média dos elementos na lista no momento;\n",
    "    - Na opção 5, será calculado o maior elemento da lista no momento;\n",
    "    - Na opção 6, será calculado o menor elemento da lista no momento;\n",
    "    - Na opção 7, a aplicação deverá indicar (Sim/Não) se a lista está ordenada por ordem crescente;\n",
    "    - Na opção 8, a aplicação deverá indicar (Sim/Não) se a lista está ordenada por ordem decrescente;\n",
    "    - Na opção 9, a aplicação irá procurar um elemento na lista, se o encontrar deverá devolver a sua posição, devolverá -1 se o elemento não estiver na lista;\n",
    "    - Se o utilizador selecionar a opção 0, a aplicação deverá terminar mostrando a lista que está nesse momento guardada."
   ]
  },
  {
   "cell_type": "code",
   "execution_count": 126,
   "id": "61c3de0d",
   "metadata": {},
   "outputs": [
    {
     "name": "stdout",
     "output_type": "stream",
     "text": [
      "(1)Criar uma lista\n",
      "(2)Ler lista\n",
      "(3)Soma\n",
      "(4)Média\n",
      "(5)Maior\n",
      "(6)Menor\n",
      "(7)Esta ordenada por ordem crescente\n",
      "(8)Esta ordenada por ordem decrescente\n",
      "(9)Procura um elemento\n",
      "(0)Sair\n",
      "A lista de elementos é [78, 31, 2, 38]\n",
      "2\n",
      "-1\n"
     ]
    }
   ],
   "source": [
    "\n",
    "lista=\"(1)Criar uma lista\\n(2)Ler lista\\n(3)Soma\\n(4)Média\\n(5)Maior\\n(6)Menor\\n(7)Esta ordenada por ordem crescente\\n(8)Esta ordenada por ordem decrescente\\n(9)Procura um elemento\\n(0)Sair\"\n",
    "print(str(lista))\n",
    "    \n",
    "import random\n",
    "def escolha1():\n",
    "    N=int(input(\"Escolha uma opção\"))\n",
    "    if N==1:\n",
    "        i= int(input(\"Qual o número de elementos da lista\"))\n",
    "        lista1=[]\n",
    "        lista1.clear()\n",
    "        while len(lista1)<i:\n",
    "            aleatorio=random.randint(0, 100)\n",
    "            lista1.append(aleatorio)\n",
    "        print(\"A lista de elementos é\",lista1)\n",
    "        N=int(input(\"Escolha uma opção\"))\n",
    "    \n",
    "    if N==2:\n",
    "        i=int(input(\"Introduza o número de elementos da lista\"))\n",
    "        lista1=[]\n",
    "        lista1.clear()\n",
    "        while len(lista1)<i: \n",
    "            m=int(input(\"Introduza um numero para a lista\"))\n",
    "            lista1.append(m)\n",
    "        print(\"A lista de números é\",lista1)\n",
    "        N=int(input(\"Escolha uma opção\"))\n",
    "    \n",
    "    soma=0\n",
    "    if N==3:\n",
    "        for e in lista1:\n",
    "           soma = soma + e\n",
    "        print(\"A soma dos elementos da lista anterior é\",soma)\n",
    "        N=int(input(\"Escolha uma opção\"))\n",
    "    \n",
    "    média=0\n",
    "    if N==4:\n",
    "        média = soma/len(lista1)\n",
    "        print(\"A média da lista é\",média)\n",
    "        N=int(input(\"Escolha uma opção\"))\n",
    "\n",
    "    if N==5:\n",
    "        maior=lista1[0]\n",
    "        for e in lista1:\n",
    "            if e>lista1[0]:\n",
    "                maior=e\n",
    "        print(\"O maior elemento da lista é\",maior)\n",
    "        N=int(input(\"Escolha uma opção\"))\n",
    "    \n",
    "    if N==6:\n",
    "        menor=lista1[0]\n",
    "        for e in lista1:\n",
    "            if e <lista1 [0]:\n",
    "                menor=e\n",
    "        print(\"O menor número da lista é\",menor)\n",
    "        N=int(input(\"Escolha uma opção\"))\n",
    "\n",
    "    if N==7:\n",
    "        i=len(lista1)\n",
    "        if lista1==lista1.sort():\n",
    "            print(\"Sim\")\n",
    "        if lista1 !=lista1.sort():\n",
    "            print(\"Não\")\n",
    "        N=int(input(\"Escolha uma opção\"))\n",
    "    if N==8:\n",
    "        i=len(lista1)\n",
    "        if lista1==lista1.sort(reverse=True):\n",
    "            print(\"Sim\")\n",
    "        if lista!=lista1.sort(reverse=True):\n",
    "            print(\"Não\")\n",
    "        N=int(input(\"Escolha uma opção\"))\n",
    "    if N==9:\n",
    "        g=int(input(\"Qual o elemento que pretende procurar?\"))\n",
    "        if g in lista1:\n",
    "            s=lista1.index(g)\n",
    "            print(s)\n",
    "        if g is not lista1:\n",
    "            print(\"-1\")\n",
    "        N=int(input(\"Escolha uma opção\"))\n",
    "    if N==0:\n",
    "        print(lista1)\n",
    "escolha1()\n",
    "   "
   ]
  }
 ],
 "metadata": {
  "kernelspec": {
   "display_name": "Python 3.9.1 64-bit",
   "language": "python",
   "name": "python3"
  },
  "language_info": {
   "codemirror_mode": {
    "name": "ipython",
    "version": 3
   },
   "file_extension": ".py",
   "mimetype": "text/x-python",
   "name": "python",
   "nbconvert_exporter": "python",
   "pygments_lexer": "ipython3",
   "version": "3.11.6"
  },
  "vscode": {
   "interpreter": {
    "hash": "aee8b7b246df8f9039afb4144a1f6fd8d2ca17a180786b69acc140d282b71a49"
   }
  }
 },
 "nbformat": 4,
 "nbformat_minor": 5
}
