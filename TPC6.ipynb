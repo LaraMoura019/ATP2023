{
 "cells": [
  {
   "cell_type": "markdown",
   "id": "4193a91b",
   "metadata": {},
   "source": [
    "### TPC6: Análise de dados: doença cardíaca\n",
    "\n",
    "Descarregue o ficheiro de dados: `diabetes_prediction_dataset.csv`\n",
    "Crie um programa em Python, conjunto de funções, que responda às seguintes questões:\n",
    "* Crie uma função que lê a informação do ficheiro para um modelo, previamente pensado em memória;\n",
    "* Crie uma função que calcula a distribuição da doença por sexo (tenha atenção que indivíduos doentes e não doentes no dataset);\n",
    "* Crie uma função que calcula a distribuição da doença por escalões etários. Considere os seguintes escalões: [0-10], [11-24], [25-29], [30-34], [35-39], [40-44], ...\n",
    "* Crie uma função que calcula a distribuição da doença por níveis de glucose. Considere um nível igual a um intervalo de 10 unidades, comece no limite inferior e crie os níveis necessários até abranger o limite superior;\n",
    "* Crie uma função que imprime na forma de uma tabela uma distribuição;\n",
    "* Especifique um programa que ao executar apresenta as tabelas correspondentes às distribuições pedidas."
   ]
  },
  {
   "cell_type": "code",
   "execution_count": 44,
   "id": "22096a18",
   "metadata": {},
   "outputs": [],
   "source": [
    "#TPC6 \n",
    "\n",
    "def lerFicheiro(nome):\n",
    "    m=open(nome,\"r\", encoding=\"utf8\")\n",
    "    print(m.read())\n",
    "    return m\n",
    "\n",
    "def distribuiçãoSexo():\n",
    "    nome=open(\"diabetes_prediction_dataset.csv\")\n",
    "    i=0\n",
    "    g=0\n",
    "    for linha in nome:\n",
    "        linha=linha.split(\",\")\n",
    "        if linha[0]==\"Female\" and linha[-1]==\"1\\n\":\n",
    "            i=i+1\n",
    "        elif linha[0]==\"Male\" and linha[-1]==\"1\\n\":\n",
    "            g=g+1\n",
    "    nome.close()\n",
    "    print(\"O numero de mulheres com diabetes é:\",i)\n",
    "    print(\"O numero de homens com diabetes é:\",g)\n",
    "\n",
    "def distribuiçãoIdade(nome):\n",
    "    i=0\n",
    "    a=0\n",
    "    b=0\n",
    "    for linha in nome:\n",
    "        if linha[1]==[0-10]:\n",
    "            i=i+1\n",
    "        if linha[1]==[11-24]:\n",
    "            a=a+1\n",
    "        if linha[1]==[25-29]:\n",
    "            b=b+1\n",
    "\n",
    "\n",
    "\n",
    "import pandas as pd\n",
    "def criarTabela():\n",
    "    tabela=pd.DataFrame()\n",
    "    print(tabela)\n",
    "    return\n"
   ]
  },
  {
   "cell_type": "code",
   "execution_count": 43,
   "id": "e208ab8d",
   "metadata": {},
   "outputs": [
    {
     "name": "stdout",
     "output_type": "stream",
     "text": [
      "(1)Distribuição por sexo\n",
      "(2)Distribuição por escalões etários\n",
      "(3)Distribuição por níveis de glucose\n",
      "O numero de mulheres com diabetes é: 4461\n",
      "O numero de homens com diabetes é: 4039\n"
     ]
    },
    {
     "ename": "TypeError",
     "evalue": "cannot unpack non-iterable NoneType object",
     "output_type": "error",
     "traceback": [
      "\u001b[1;31m---------------------------------------------------------------------------\u001b[0m",
      "\u001b[1;31mTypeError\u001b[0m                                 Traceback (most recent call last)",
      "\u001b[1;32mc:\\Users\\laram\\OneDrive\\Ambiente de Trabalho\\TPC6.ipynb Cell 3\u001b[0m line \u001b[0;36m4\n\u001b[0;32m      <a href='vscode-notebook-cell:/c%3A/Users/laram/OneDrive/Ambiente%20de%20Trabalho/TPC6.ipynb#X45sZmlsZQ%3D%3D?line=1'>2</a>\u001b[0m m\u001b[39m=\u001b[39m\u001b[39mint\u001b[39m(\u001b[39minput\u001b[39m(\u001b[39m\"\u001b[39m\u001b[39mQual é a distribuição que quer fazer?\u001b[39m\u001b[39m\"\u001b[39m))\n\u001b[0;32m      <a href='vscode-notebook-cell:/c%3A/Users/laram/OneDrive/Ambiente%20de%20Trabalho/TPC6.ipynb#X45sZmlsZQ%3D%3D?line=2'>3</a>\u001b[0m \u001b[39mif\u001b[39;00m m\u001b[39m==\u001b[39m\u001b[39m1\u001b[39m:\n\u001b[1;32m----> <a href='vscode-notebook-cell:/c%3A/Users/laram/OneDrive/Ambiente%20de%20Trabalho/TPC6.ipynb#X45sZmlsZQ%3D%3D?line=3'>4</a>\u001b[0m     i,g\u001b[39m=\u001b[39mdistribuiçãoporSexo()\n\u001b[0;32m      <a href='vscode-notebook-cell:/c%3A/Users/laram/OneDrive/Ambiente%20de%20Trabalho/TPC6.ipynb#X45sZmlsZQ%3D%3D?line=4'>5</a>\u001b[0m     criarTabela()\n\u001b[0;32m      <a href='vscode-notebook-cell:/c%3A/Users/laram/OneDrive/Ambiente%20de%20Trabalho/TPC6.ipynb#X45sZmlsZQ%3D%3D?line=5'>6</a>\u001b[0m     tabela \u001b[39m=\u001b[39m pd\u001b[39m.\u001b[39mDataFrame({\u001b[39m\"\u001b[39m\u001b[39mSexo\u001b[39m\u001b[39m\"\u001b[39m: [\u001b[39m\"\u001b[39m\u001b[39mFeminino\u001b[39m\u001b[39m\"\u001b[39m, \u001b[39m\"\u001b[39m\u001b[39mMasculino\u001b[39m\u001b[39m\"\u001b[39m], \u001b[39m\"\u001b[39m\u001b[39mNúmero de Casos de Diabetes\u001b[39m\u001b[39m\"\u001b[39m: i})\n",
      "\u001b[1;31mTypeError\u001b[0m: cannot unpack non-iterable NoneType object"
     ]
    }
   ],
   "source": [
    "print(\"(1)Distribuição por sexo\\n(2)Distribuição por escalões etários\\n(3)Distribuição por níveis de glucose\")\n",
    "m=int(input(\"Qual é a distribuição que quer fazer?\"))\n",
    "if m==1:\n",
    "    i,g=distribuiçãoporSexo()\n",
    "    criarTabela()\n",
    "    tabela = pd.DataFrame({\"Sexo\": [\"Feminino\", \"Masculino\"], \"Número de Casos de Diabetes\": i})\n",
    "if m==2:\n",
    "    criarTabela(distribuiçãoIdade())\n",
    "if m==3:\n",
    "    criarTabela(distribuiçãoGlucose())"
   ]
  },
  {
   "cell_type": "code",
   "execution_count": 30,
   "id": "1ab8c918",
   "metadata": {},
   "outputs": [
    {
     "name": "stdout",
     "output_type": "stream",
     "text": [
      "Collecting pandas\n",
      "  Obtaining dependency information for pandas from https://files.pythonhosted.org/packages/2d/5e/9213ea10ac473e2437dc2cb17323ddc0999997e2713d6a0b683b10773994/pandas-2.1.1-cp311-cp311-win_amd64.whl.metadata\n",
      "  Downloading pandas-2.1.1-cp311-cp311-win_amd64.whl.metadata (18 kB)\n",
      "Collecting numpy>=1.23.2 (from pandas)\n",
      "  Obtaining dependency information for numpy>=1.23.2 from https://files.pythonhosted.org/packages/82/0f/3f712cd84371636c5375d2dd70e7514d264cec6bdfc3d7997a4236e9f948/numpy-1.26.1-cp311-cp311-win_amd64.whl.metadata\n",
      "  Downloading numpy-1.26.1-cp311-cp311-win_amd64.whl.metadata (61 kB)\n",
      "     ---------------------------------------- 0.0/61.2 kB ? eta -:--:--\n",
      "     --------------------------------- ------ 51.2/61.2 kB 1.3 MB/s eta 0:00:01\n",
      "     ---------------------------------------- 61.2/61.2 kB 1.6 MB/s eta 0:00:00\n",
      "Requirement already satisfied: python-dateutil>=2.8.2 in c:\\users\\laram\\appdata\\local\\packages\\pythonsoftwarefoundation.python.3.11_qbz5n2kfra8p0\\localcache\\local-packages\\python311\\site-packages (from pandas) (2.8.2)\n",
      "Collecting pytz>=2020.1 (from pandas)\n",
      "  Obtaining dependency information for pytz>=2020.1 from https://files.pythonhosted.org/packages/32/4d/aaf7eff5deb402fd9a24a1449a8119f00d74ae9c2efa79f8ef9994261fc2/pytz-2023.3.post1-py2.py3-none-any.whl.metadata\n",
      "  Downloading pytz-2023.3.post1-py2.py3-none-any.whl.metadata (22 kB)\n",
      "Collecting tzdata>=2022.1 (from pandas)\n",
      "  Downloading tzdata-2023.3-py2.py3-none-any.whl (341 kB)\n",
      "     ---------------------------------------- 0.0/341.8 kB ? eta -:--:--\n",
      "     -------------------------------------  337.9/341.8 kB 7.0 MB/s eta 0:00:01\n",
      "     -------------------------------------- 341.8/341.8 kB 7.1 MB/s eta 0:00:00\n",
      "Requirement already satisfied: six>=1.5 in c:\\users\\laram\\appdata\\local\\packages\\pythonsoftwarefoundation.python.3.11_qbz5n2kfra8p0\\localcache\\local-packages\\python311\\site-packages (from python-dateutil>=2.8.2->pandas) (1.16.0)\n",
      "Downloading pandas-2.1.1-cp311-cp311-win_amd64.whl (10.6 MB)\n",
      "   ---------------------------------------- 0.0/10.6 MB ? eta -:--:--\n",
      "   - -------------------------------------- 0.4/10.6 MB 8.7 MB/s eta 0:00:02\n",
      "   --- ------------------------------------ 0.9/10.6 MB 10.9 MB/s eta 0:00:01\n",
      "   ----- ---------------------------------- 1.4/10.6 MB 11.0 MB/s eta 0:00:01\n",
      "   ------ --------------------------------- 1.9/10.6 MB 10.8 MB/s eta 0:00:01\n",
      "   --------- ------------------------------ 2.4/10.6 MB 10.9 MB/s eta 0:00:01\n",
      "   ---------- ----------------------------- 2.9/10.6 MB 11.0 MB/s eta 0:00:01\n",
      "   ------------ --------------------------- 3.4/10.6 MB 11.0 MB/s eta 0:00:01\n",
      "   -------------- ------------------------- 4.0/10.6 MB 11.1 MB/s eta 0:00:01\n",
      "   ----------------- ---------------------- 4.6/10.6 MB 11.2 MB/s eta 0:00:01\n",
      "   ------------------- -------------------- 5.1/10.6 MB 11.3 MB/s eta 0:00:01\n",
      "   --------------------- ------------------ 5.7/10.6 MB 11.3 MB/s eta 0:00:01\n",
      "   ----------------------- ---------------- 6.1/10.6 MB 11.2 MB/s eta 0:00:01\n",
      "   ------------------------- -------------- 6.7/10.6 MB 11.3 MB/s eta 0:00:01\n",
      "   --------------------------- ------------ 7.3/10.6 MB 11.4 MB/s eta 0:00:01\n",
      "   ---------------------------- ----------- 7.7/10.6 MB 11.2 MB/s eta 0:00:01\n",
      "   ------------------------------- -------- 8.3/10.6 MB 11.3 MB/s eta 0:00:01\n",
      "   -------------------------------- ------- 8.8/10.6 MB 11.2 MB/s eta 0:00:01\n",
      "   ----------------------------------- ---- 9.4/10.6 MB 11.3 MB/s eta 0:00:01\n",
      "   ------------------------------------ --- 9.8/10.6 MB 11.2 MB/s eta 0:00:01\n",
      "   -------------------------------------- - 10.1/10.6 MB 11.2 MB/s eta 0:00:01\n",
      "   ---------------------------------------  10.4/10.6 MB 10.7 MB/s eta 0:00:01\n",
      "   ---------------------------------------  10.6/10.6 MB 10.9 MB/s eta 0:00:01\n",
      "   ---------------------------------------- 10.6/10.6 MB 10.5 MB/s eta 0:00:00\n",
      "Downloading numpy-1.26.1-cp311-cp311-win_amd64.whl (15.8 MB)\n",
      "   ---------------------------------------- 0.0/15.8 MB ? eta -:--:--\n",
      "    --------------------------------------- 0.4/15.8 MB 7.4 MB/s eta 0:00:03\n",
      "   -- ------------------------------------- 0.9/15.8 MB 9.5 MB/s eta 0:00:02\n",
      "   --- ------------------------------------ 1.5/15.8 MB 10.4 MB/s eta 0:00:02\n",
      "   ----- ---------------------------------- 2.0/15.8 MB 10.6 MB/s eta 0:00:02\n",
      "   ------ --------------------------------- 2.6/15.8 MB 11.0 MB/s eta 0:00:02\n",
      "   ------- -------------------------------- 3.1/15.8 MB 11.5 MB/s eta 0:00:02\n",
      "   --------- ------------------------------ 3.6/15.8 MB 11.6 MB/s eta 0:00:02\n",
      "   ---------- ----------------------------- 4.1/15.8 MB 11.5 MB/s eta 0:00:02\n",
      "   ------------ --------------------------- 4.7/15.8 MB 11.7 MB/s eta 0:00:01\n",
      "   ------------- -------------------------- 5.2/15.8 MB 11.6 MB/s eta 0:00:01\n",
      "   -------------- ------------------------- 5.8/15.8 MB 11.6 MB/s eta 0:00:01\n",
      "   ---------------- ----------------------- 6.4/15.8 MB 11.7 MB/s eta 0:00:01\n",
      "   ----------------- ---------------------- 6.9/15.8 MB 11.6 MB/s eta 0:00:01\n",
      "   ------------------ --------------------- 7.5/15.8 MB 11.6 MB/s eta 0:00:01\n",
      "   -------------------- ------------------- 8.0/15.8 MB 11.6 MB/s eta 0:00:01\n",
      "   --------------------- ------------------ 8.6/15.8 MB 11.7 MB/s eta 0:00:01\n",
      "   ---------------------- ----------------- 8.9/15.8 MB 11.4 MB/s eta 0:00:01\n",
      "   ------------------------ --------------- 9.6/15.8 MB 11.5 MB/s eta 0:00:01\n",
      "   ------------------------- -------------- 10.0/15.8 MB 11.4 MB/s eta 0:00:01\n",
      "   -------------------------- ------------- 10.6/15.8 MB 11.7 MB/s eta 0:00:01\n",
      "   ---------------------------- ----------- 11.2/15.8 MB 11.7 MB/s eta 0:00:01\n",
      "   ---------------------------- ----------- 11.2/15.8 MB 11.7 MB/s eta 0:00:01\n",
      "   ---------------------------- ----------- 11.2/15.8 MB 11.7 MB/s eta 0:00:01\n",
      "   -------------------------------- ------- 12.8/15.8 MB 11.7 MB/s eta 0:00:01\n",
      "   --------------------------------- ------ 13.3/15.8 MB 11.7 MB/s eta 0:00:01\n",
      "   ---------------------------------- ----- 13.8/15.8 MB 11.5 MB/s eta 0:00:01\n",
      "   ------------------------------------ --- 14.4/15.8 MB 11.5 MB/s eta 0:00:01\n",
      "   ------------------------------------- -- 14.7/15.8 MB 11.5 MB/s eta 0:00:01\n",
      "   -------------------------------------- - 15.3/15.8 MB 11.5 MB/s eta 0:00:01\n",
      "   ---------------------------------------  15.8/15.8 MB 11.5 MB/s eta 0:00:01\n",
      "   ---------------------------------------- 15.8/15.8 MB 10.9 MB/s eta 0:00:00\n",
      "Downloading pytz-2023.3.post1-py2.py3-none-any.whl (502 kB)\n",
      "   ---------------------------------------- 0.0/502.5 kB ? eta -:--:--\n",
      "   ---------------------------------------- 502.5/502.5 kB ? eta 0:00:00\n",
      "Installing collected packages: pytz, tzdata, numpy, pandas\n",
      "Successfully installed numpy-1.26.1 pandas-2.1.1 pytz-2023.3.post1 tzdata-2023.3\n",
      "Note: you may need to restart the kernel to use updated packages.\n"
     ]
    },
    {
     "name": "stderr",
     "output_type": "stream",
     "text": [
      "\n",
      "[notice] A new release of pip is available: 23.2.1 -> 23.3\n",
      "[notice] To update, run: C:\\Users\\laram\\AppData\\Local\\Microsoft\\WindowsApps\\PythonSoftwareFoundation.Python.3.11_qbz5n2kfra8p0\\python.exe -m pip install --upgrade pip\n"
     ]
    }
   ],
   "source": [
    "pip install pandas\n"
   ]
  }
 ],
 "metadata": {
  "kernelspec": {
   "display_name": "Python 3.9.1 64-bit",
   "language": "python",
   "name": "python3"
  },
  "language_info": {
   "codemirror_mode": {
    "name": "ipython",
    "version": 3
   },
   "file_extension": ".py",
   "mimetype": "text/x-python",
   "name": "python",
   "nbconvert_exporter": "python",
   "pygments_lexer": "ipython3",
   "version": "3.11.6"
  },
  "vscode": {
   "interpreter": {
    "hash": "aee8b7b246df8f9039afb4144a1f6fd8d2ca17a180786b69acc140d282b71a49"
   }
  }
 },
 "nbformat": 4,
 "nbformat_minor": 5
}
